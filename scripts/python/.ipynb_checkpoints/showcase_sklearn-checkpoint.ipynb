{
 "cells": [
  {
   "cell_type": "raw",
   "metadata": {
    "collapsed": true
   },
   "source": [
    "%Date: 03.05.2016"
   ]
  },
  {
   "cell_type": "markdown",
   "metadata": {},
   "source": [
    "# Showcase of scikit-learn"
   ]
  },
  {
   "cell_type": "markdown",
   "metadata": {},
   "source": [
    "As the title says, this is only a showcase of scikit-learn as it was used in the thesis.  \n",
    "For actual documentation, refer to the [scikit-learn documentation](http://scikit-learn.org/stable/documentation.html).\n",
    "\n",
    "For classification with XGBoost, refer to showcase_xgboost."
   ]
  },
  {
   "cell_type": "code",
   "execution_count": 1,
   "metadata": {
    "collapsed": false
   },
   "outputs": [],
   "source": [
    "import numpy as np\n",
    "import matplotlib.pyplot as plt\n",
    "import toolbox as tb\n",
    "import kaggleData as kD\n",
    "import matplotlib.patches as mpatches"
   ]
  },
  {
   "cell_type": "markdown",
   "metadata": {},
   "source": [
    "In this showcase, we reproduce the best submissions we were able to achieve during the thesis by using the Python package scikit-learn.  \n",
    "These submissions are chosen by their performance on public AMS.  \n",
    "Following information is extracted from our recorded classification runs by using our tools, presented in showcase_toolbox."
   ]
  },
  {
   "cell_type": "code",
   "execution_count": 2,
   "metadata": {
    "collapsed": false
   },
   "outputs": [
    {
     "data": {
      "text/plain": [
       "array([['xgboost', 'header_all', '2.4321543', '3.66421262680941',\n",
       "        '3.71268472156738', '997.632616996765', '57.4933519363403',\n",
       "        'Threshold=0.145', 'steps_=2500', 'depth_=9', 'eta_=0.01',\n",
       "        'subsample_=0.9', 'eval_1=auc', 'eval_2=ams@0.14', 'None', 'None',\n",
       "        'None', 'None', 'None', 'None'],\n",
       "       ['gbc', 'header_all', '0.869924', '3.28927069645223',\n",
       "        '3.42808660853669', '8322.90483593940', '10.2775928974151',\n",
       "        'threshold=0.6666', 'trees_=100', 'depth_=12', 'eta_=0.01',\n",
       "        'subsample_=0.9', 'None', 'None', 'None', 'None', 'None', 'None',\n",
       "        'None', 'None'],\n",
       "       ['kNN', 'header_6', '0.81892', '3.18534579809683',\n",
       "        '3.17144377327013', '1.25601601600646', '123.669127941131',\n",
       "        'threshold=0.7777', 'k=297', 'p=1', 'None', 'None', 'None', 'None',\n",
       "        'None', 'None', 'None', 'None', 'None', 'None'],\n",
       "       ['log Reg', 'header_8', '0.73912', '2.04562322781762',\n",
       "        '2.07029542090901', '3.67624711990356', '0.21499204635620',\n",
       "        'threshold=0.4444', 'C=0.1', 'penalty=l2', 'None', 'None', 'None',\n",
       "        'None', 'None', 'None', 'None', 'None', 'None', 'None'],\n",
       "       ['log Reg CV', 'header_3', '0.73507', '1.96216755909995',\n",
       "        '1.98149424825609', '33.3609240055084', '0.26706004142761',\n",
       "        'threshold=0.4444', 'Cs=1', 'penalty=l1', \"scoring = 'roc_a\",\n",
       "        'None', 'None', 'None', 'None', 'None', 'None', 'None', 'None',\n",
       "        'None']], \n",
       "      dtype='<U16')"
      ]
     },
     "execution_count": 2,
     "metadata": {},
     "output_type": "execute_result"
    }
   ],
   "source": [
    "rec_data ,rec_header = tb.getRecord()\n",
    "rec_pubams=tb.sortByColumn(rec_data,3)\n",
    "\n",
    "gotIT = []\n",
    "best = []\n",
    "for row in reversed(rec_pubams):\n",
    "    if row[0] not in gotIT:\n",
    "        gotIT.append(row[0])\n",
    "        best.append(row)\n",
    "best = np.array(best)\n",
    "best"
   ]
  },
  {
   "cell_type": "markdown",
   "metadata": {},
   "source": [
    "As we generate submissions in this showcase, we need to import the Kaggle dataset.\n",
    "We extract feature subsets if we need them to produce top submissions, for now we only generate the set with all features."
   ]
  },
  {
   "cell_type": "code",
   "execution_count": 3,
   "metadata": {
    "collapsed": false
   },
   "outputs": [],
   "source": [
    "csv_data,csv_header = kD.csvToArray()\n",
    "train_data,train_header,test_data,test_header=kD.getOriginalKaggleSets(csv_data,csv_header)\n",
    "sol_data,sol_header = kD.getSolutionKey(csv_data,csv_header)\n",
    "test_events = kD._extractFeature(\"EventId\",test_data,csv_header).astype(float)"
   ]
  },
  {
   "cell_type": "code",
   "execution_count": 4,
   "metadata": {
    "collapsed": true
   },
   "outputs": [],
   "source": [
    "train_all = train_data[:,1:-2].astype(float)\n",
    "train_labels = kD.translateLabels(train_data[:,-1],[\"Label\"]).astype(float)\n",
    "train_weights = train_data[:,-2].astype(float)\n",
    "test_all = test_data[:,1:].astype(float)\n",
    "header_all = test_header[1:]"
   ]
  },
  {
   "cell_type": "markdown",
   "metadata": {},
   "source": [
    "We want to test every classifier with toy data, so we need to generate it by using our tools."
   ]
  },
  {
   "cell_type": "code",
   "execution_count": 5,
   "metadata": {
    "collapsed": true
   },
   "outputs": [],
   "source": [
    "n = 100000\n",
    "toy_data = tb.createToyData(n,dim = 4,s_prob = 0.05)\n",
    "toy_weights = toy_data[:,0]\n",
    "toy_labels = toy_data[:,1]\n",
    "x = toy_data[:,2:4]"
   ]
  },
  {
   "cell_type": "markdown",
   "metadata": {},
   "source": [
    "To see the shape of the data, we visualize it."
   ]
  },
  {
   "cell_type": "code",
   "execution_count": 6,
   "metadata": {
    "collapsed": false,
    "scrolled": true
   },
   "outputs": [
    {
     "name": "stdout",
     "output_type": "stream",
     "text": [
      "Populating the interactive namespace from numpy and matplotlib\n"
     ]
    },
    {
     "data": {
      "text/plain": [
       "<matplotlib.collections.PathCollection at 0x10177160>"
      ]
     },
     "execution_count": 6,
     "metadata": {},
     "output_type": "execute_result"
    },
    {
     "data": {
      "image/png": "[encoded data removed]",
      "text/plain": [
       "<matplotlib.figure.Figure at 0x6fd61d0>"
      ]
     },
     "metadata": {},
     "output_type": "display_data"
    }
   ],
   "source": [
    "%pylab inline\n",
    "plt.scatter(x[:,0], x[:,1], edgecolor=\"\", c=toy_labels, alpha=0.3)"
   ]
  },
  {
   "cell_type": "markdown",
   "metadata": {},
   "source": [
    "For proper classification, we split our data into training and test sets and calculate the best AMS possible for this data.  \n",
    "The weights of our toy data are the random values we thresholded to separate our data into two classes. Therefore, all signal weights are less than or equal 0.05 and background is weighted more than 0.95."
   ]
  },
  {
   "cell_type": "code",
   "execution_count": 7,
   "metadata": {
    "collapsed": true
   },
   "outputs": [],
   "source": [
    "n_train = int(n/10)\n",
    "\n",
    "toy_train_x = x[:n_train]\n",
    "toy_test_x = x[n_train:]\n",
    "\n",
    "toy_train_labels = toy_labels[:n_train]\n",
    "toy_test_labels  = toy_labels[n_train:]\n",
    "\n",
    "toy_test_weights = toy_weights[n_train:]"
   ]
  },
  {
   "cell_type": "code",
   "execution_count": 8,
   "metadata": {
    "collapsed": false
   },
   "outputs": [
    {
     "name": "stdout",
     "output_type": "stream",
     "text": [
      "Found 4518 signals.\n",
      "Weightsums signal: 113.169951821 | background: 0\n",
      "Maximum AMS possible with this Data: 19.80441049852333\n"
     ]
    }
   ],
   "source": [
    "tb.calcMaxAMS(toy_test_weights,toy_test_labels);"
   ]
  },
  {
   "cell_type": "markdown",
   "metadata": {},
   "source": [
    "## Logistic Regression"
   ]
  },
  {
   "cell_type": "code",
   "execution_count": 9,
   "metadata": {
    "collapsed": true
   },
   "outputs": [],
   "source": [
    "from sklearn import linear_model as linMod"
   ]
  },
  {
   "cell_type": "markdown",
   "metadata": {},
   "source": [
    "Every classifier included in scikit-learn is used in three steps.  \n",
    "1. Initialize the classifier with wanted parameters.\n",
    "2. Use the `fit(X,y)` function of this classifier, where `X` is the training data and `y` are its labels.\n",
    "3. Use the `pred(X)` function of this classifier, where `X` is the test data.  \n",
    "For soft prediction, which has not been thresholded to separate classes yet, use `pred_proba(X)`."
   ]
  },
  {
   "cell_type": "code",
   "execution_count": 10,
   "metadata": {
    "collapsed": true
   },
   "outputs": [],
   "source": [
    "logReg = linMod.LogisticRegression()"
   ]
  },
  {
   "cell_type": "markdown",
   "metadata": {},
   "source": [
    "If we want to record the runtime, we can do this by using `time`."
   ]
  },
  {
   "cell_type": "code",
   "execution_count": 11,
   "metadata": {
    "collapsed": true
   },
   "outputs": [],
   "source": [
    "import time"
   ]
  },
  {
   "cell_type": "code",
   "execution_count": 12,
   "metadata": {
    "collapsed": false
   },
   "outputs": [
    {
     "name": "stdout",
     "output_type": "stream",
     "text": [
      "0.021059036254882812\n"
     ]
    }
   ],
   "source": [
    "start = time.time()\n",
    "logReg.fit(toy_train_x,toy_train_labels)\n",
    "end = time.time()\n",
    "print(end-start)"
   ]
  },
  {
   "cell_type": "code",
   "execution_count": 13,
   "metadata": {
    "collapsed": true
   },
   "outputs": [],
   "source": [
    "pred = logReg.predict(toy_test_x)"
   ]
  },
  {
   "cell_type": "markdown",
   "metadata": {},
   "source": [
    "We can calculate the accuracy the classifier achieves for a labeled data set."
   ]
  },
  {
   "cell_type": "code",
   "execution_count": 14,
   "metadata": {
    "collapsed": false
   },
   "outputs": [
    {
     "data": {
      "text/plain": [
       "0.99970000000000003"
      ]
     },
     "execution_count": 14,
     "metadata": {},
     "output_type": "execute_result"
    }
   ],
   "source": [
    "logReg.score(toy_train_x,toy_train_labels)"
   ]
  },
  {
   "cell_type": "markdown",
   "metadata": {},
   "source": [
    "Also we are able to visualize the classified data."
   ]
  },
  {
   "cell_type": "code",
   "execution_count": 15,
   "metadata": {
    "collapsed": false
   },
   "outputs": [
    {
     "name": "stdout",
     "output_type": "stream",
     "text": [
      "Populating the interactive namespace from numpy and matplotlib\n"
     ]
    },
    {
     "data": {
      "text/plain": [
       "<matplotlib.legend.Legend at 0x155ab908>"
      ]
     },
     "execution_count": 15,
     "metadata": {},
     "output_type": "execute_result"
    },
    {
     "data": {
      "image/png": "[encoded data removed]",
      "text/plain": [
       "<matplotlib.figure.Figure at 0x6eb32e8>"
      ]
     },
     "metadata": {},
     "output_type": "display_data"
    }
   ],
   "source": [
    "%pylab inline\n",
    "\n",
    "xData = toy_test_x[:,0]\n",
    "yData = toy_test_x[:,1]\n",
    "\n",
    "scat = plt.scatter(xData, yData, s=1, edgecolor=\"\", c=pred, alpha=0.5)  \n",
    "\n",
    "blue_patch = mpatches.Patch(color='blue', label='signal')\n",
    "red_patch = mpatches.Patch(color='red', label='background')\n",
    "plt.legend(handles=[blue_patch,red_patch])"
   ]
  },
  {
   "cell_type": "markdown",
   "metadata": {},
   "source": [
    "Now we produce our submission that resulted to the best public AMS that was achieved by Logistic Regression.  "
   ]
  },
  {
   "cell_type": "code",
   "execution_count": 16,
   "metadata": {
    "collapsed": false
   },
   "outputs": [
    {
     "data": {
      "text/plain": [
       "array(['log Reg', 'header_8', '0.73912', '2.04562322781762',\n",
       "       '2.07029542090901', '3.67624711990356', '0.21499204635620',\n",
       "       'threshold=0.4444', 'C=0.1', 'penalty=l2', 'None', 'None', 'None',\n",
       "       'None', 'None', 'None', 'None', 'None', 'None', 'None'], \n",
       "      dtype='<U16')"
      ]
     },
     "execution_count": 16,
     "metadata": {},
     "output_type": "execute_result"
    }
   ],
   "source": [
    "best[3]"
   ]
  },
  {
   "cell_type": "markdown",
   "metadata": {},
   "source": [
    "We use feature set 8 (see Tab. 3 of the thesis."
   ]
  },
  {
   "cell_type": "code",
   "execution_count": 17,
   "metadata": {
    "collapsed": false
   },
   "outputs": [],
   "source": [
    "header_8,train_8,test_8 = kD.getFeatureSubset(train_data,test_data,train_header,test_header,8)"
   ]
  },
  {
   "cell_type": "markdown",
   "metadata": {},
   "source": [
    "While testing a classifier, we perform cross-validation."
   ]
  },
  {
   "cell_type": "code",
   "execution_count": 18,
   "metadata": {
    "collapsed": true
   },
   "outputs": [],
   "source": [
    "from sklearn import cross_validation"
   ]
  },
  {
   "cell_type": "markdown",
   "metadata": {},
   "source": [
    "Basically, we use `cross-validation.train_test_split()` to randomly split our training set and test the classifiers prediction."
   ]
  },
  {
   "cell_type": "code",
   "execution_count": 19,
   "metadata": {
    "collapsed": false
   },
   "outputs": [],
   "source": [
    "X_train, X_test, y_train, y_test = cross_validation.train_test_split(\n",
    "    train_8, train_labels, test_size=0.4, random_state=0)"
   ]
  },
  {
   "cell_type": "code",
   "execution_count": 20,
   "metadata": {
    "collapsed": false
   },
   "outputs": [
    {
     "data": {
      "text/plain": [
       "0.73926000000000003"
      ]
     },
     "execution_count": 20,
     "metadata": {},
     "output_type": "execute_result"
    }
   ],
   "source": [
    "logReg = linMod.LogisticRegression()\n",
    "logReg.fit(X_train,y_train)\n",
    "logReg.score(X_test,y_test)"
   ]
  },
  {
   "cell_type": "markdown",
   "metadata": {},
   "source": [
    "To make recording of testing easier, we create methods. We use this strategy for every classifier we test.  \n",
    "First, we write a method to perform logistic regression."
   ]
  },
  {
   "cell_type": "code",
   "execution_count": 21,
   "metadata": {
    "collapsed": true
   },
   "outputs": [],
   "source": [
    "def logisticReg(train_data,train_labels,test_data,C= 1.0,pen='l2',timed=False,n_jobs = 8,thresh = 0.42):\n",
    "    \n",
    "    #setup\n",
    "    logReg = linMod.LogisticRegression()\n",
    "    logReg.set_params(C= C,\n",
    "                  class_weight= None,\n",
    "                  dual= False,\n",
    "                  fit_intercept= True,\n",
    "                  intercept_scaling= 1,\n",
    "                  max_iter= 100,\n",
    "                  multi_class= 'ovr',\n",
    "                  n_jobs= n_jobs,\n",
    "                  penalty= pen,\n",
    "                  random_state= None,\n",
    "                  solver= 'liblinear',\n",
    "                  tol= 0.0001,\n",
    "                  verbose= 0,\n",
    "                  warm_start= False)\n",
    "\n",
    "    #cross-validation\n",
    "    X_train, X_test, y_train, y_test = cross_validation.train_test_split(\n",
    "        train_data, train_labels, test_size=0.4, random_state=0)\n",
    "    logReg.fit(X_train,y_train)\n",
    "    cv_score = logReg.score(X_test, y_test)\n",
    "    \n",
    "    \n",
    "    #performance testing\n",
    "    time_train = 0.\n",
    "    time_test = 0.\n",
    "    if timed:\n",
    "        start = time.time()\n",
    "    \n",
    "    #training classifier\n",
    "    logReg.fit(train_data,train_labels)\n",
    "    #we use sparsify for potential performance benefits, this makes the classification use sparse martrices\n",
    "    logReg.sparsify()\n",
    "    \n",
    "    if timed:\n",
    "        end = time.time()\n",
    "        time_train = end - start\n",
    "        start = time.time()\n",
    "    \n",
    "    #predict test_data, use threshold\n",
    "    soft_pred = logReg.predict_proba(test_data)\n",
    "    hard_pred = tb.customThreshold(soft_pred[:,1],thresh)\n",
    "    \n",
    "    if timed:\n",
    "        end = time.time()\n",
    "        time_test = end - start\n",
    "        \n",
    "    #\n",
    "    del logReg\n",
    "    return hard_pred,soft_pred,cv_score,time_train,time_test"
   ]
  },
  {
   "cell_type": "markdown",
   "metadata": {},
   "source": [
    "Second, we want to achieve a best result by using automatic thresholding.  \n",
    "Then we save the run's performance and parameters."
   ]
  },
  {
   "cell_type": "code",
   "execution_count": 22,
   "metadata": {
    "collapsed": true
   },
   "outputs": [],
   "source": [
    "def runLogReg(train_data,train_labels,test_data,C=1.0,pen='l2',timed=True,featListName=\"not specified\"):\n",
    "    \n",
    "    #make soft prediction\n",
    "    soft_pred,cvs,time_train,time_test = logisticReg(train_data,train_labels,test_data,C=C,timed=timed)[1:]\n",
    "    #threshold soft prediction\n",
    "    hard_pred,maxAMS,maxThresh = tb.bestThreshold(soft_pred[:,1],sol_data)\n",
    "    \n",
    "    #calculate AMS and report it to user\n",
    "    b_ams,v_ams = tb.calcSetAMS(hard_pred,sol_data)\n",
    "    print(\"Public AMS:\",b_ams[0],\"|| Private AMS:\",v_ams[0],\"|| Threshold:\", maxThresh)\n",
    "    \n",
    "    ##save run's stats\n",
    "    res=np.empty((20,),dtype=\"<U16\")\n",
    "    res[:10]=[\"log Reg\",\n",
    "            featListName,\n",
    "            str(cvs),\n",
    "            str(b_ams[0]),\n",
    "            str(v_ams[0]),\n",
    "            str(time_train),\n",
    "            str(time_test),\n",
    "            str(\"threshold=\"+str(maxThresh)),\n",
    "            str(\"C=\"+str(C)),\n",
    "            str(\"penalty=\"+pen)]\n",
    "    res[10:]=\"None\"\n",
    "    tb.recordRun(res)\n",
    "    \n",
    "    return hard_pred,soft_pred[:,1]"
   ]
  },
  {
   "cell_type": "code",
   "execution_count": 23,
   "metadata": {
    "collapsed": false
   },
   "outputs": [
    {
     "name": "stdout",
     "output_type": "stream",
     "text": [
      "Public AMS: 2.0456232278176207 || Private AMS: 2.0702954209090123 || Threshold: 0.444444444444\n"
     ]
    }
   ],
   "source": [
    "soft_pred = runLogReg(train_8,train_labels,test_8,C=0.1,pen='l2',timed=True,featListName=\"header_8\")[1]"
   ]
  },
  {
   "cell_type": "markdown",
   "metadata": {},
   "source": [
    "As we need to create a ranking for our submission, we use the soft prediction and the threshold chosen by `bestThreshold()`.  \n",
    "We call our submission subm_logReg.csv."
   ]
  },
  {
   "cell_type": "code",
   "execution_count": 24,
   "metadata": {
    "collapsed": false
   },
   "outputs": [],
   "source": [
    "tb.createSubmissionFile(soft_pred,fname=\"subm_logReg.csv\",threshold=0.4444)"
   ]
  },
  {
   "cell_type": "markdown",
   "metadata": {},
   "source": [
    "Scikit-learn provides a logistic regression class with built-in cross-validation. As its use is nearly identical to the standard class' and it failed to surpass it, we will not reproduce its best run.\n",
    "\n",
    "For comparison, we present the recorded run in this place."
   ]
  },
  {
   "cell_type": "code",
   "execution_count": 25,
   "metadata": {
    "collapsed": false
   },
   "outputs": [
    {
     "data": {
      "text/plain": [
       "array(['log Reg CV', 'header_3', '0.73507', '1.96216755909995',\n",
       "       '1.98149424825609', '33.3609240055084', '0.26706004142761',\n",
       "       'threshold=0.4444', 'Cs=1', 'penalty=l1', \"scoring = 'roc_a\",\n",
       "       'None', 'None', 'None', 'None', 'None', 'None', 'None', 'None',\n",
       "       'None'], \n",
       "      dtype='<U16')"
      ]
     },
     "execution_count": 25,
     "metadata": {},
     "output_type": "execute_result"
    }
   ],
   "source": [
    "best[4]"
   ]
  },
  {
   "cell_type": "markdown",
   "metadata": {},
   "source": [
    "## K Nearest Neighbor"
   ]
  },
  {
   "cell_type": "code",
   "execution_count": 26,
   "metadata": {
    "collapsed": true
   },
   "outputs": [],
   "source": [
    "from sklearn import neighbors"
   ]
  },
  {
   "cell_type": "markdown",
   "metadata": {},
   "source": [
    "We run our first kNN classification on toy data."
   ]
  },
  {
   "cell_type": "code",
   "execution_count": 27,
   "metadata": {
    "collapsed": false
   },
   "outputs": [
    {
     "data": {
      "text/plain": [
       "0.99970000000000003"
      ]
     },
     "execution_count": 27,
     "metadata": {},
     "output_type": "execute_result"
    }
   ],
   "source": [
    "knn = neighbors.KNeighborsClassifier()\n",
    "knn.fit(toy_train_x,toy_train_labels)\n",
    "pred = knn.predict(toy_test_x)\n",
    "knn.score(toy_train_x,toy_train_labels)"
   ]
  },
  {
   "cell_type": "markdown",
   "metadata": {},
   "source": [
    "The testing methods are:"
   ]
  },
  {
   "cell_type": "code",
   "execution_count": 28,
   "metadata": {
    "collapsed": true
   },
   "outputs": [],
   "source": [
    "def kNN(train_data,train_labels,test_data,timed=False,n_jobs = 8,k = 20,p=2,thresh = 0.8):\n",
    "\n",
    "    #setup\n",
    "    neigh = neighbors.KNeighborsClassifier()\n",
    "    neigh.set_params(algorithm = 'auto',\n",
    "                     leaf_size = 30,\n",
    "                     metric = 'minkowski',\n",
    "                     metric_params = None,\n",
    "                     n_jobs = n_jobs,\n",
    "                     n_neighbors = k,\n",
    "                     #p=1 <=> manhattan-distance\n",
    "                     #p=2 <=> euclidian\n",
    "                     p = p,\n",
    "                     weights = 'distance')\n",
    "    \n",
    "    #cross-validation\n",
    "    X_train, X_test, y_train, y_test = cross_validation.train_test_split(\n",
    "        train_data, train_labels, test_size=0.4, random_state=0)\n",
    "    neigh.fit(X_train,y_train)\n",
    "    cv_score = neigh.score(X_test, y_test)\n",
    "    \n",
    "    #performance testing\n",
    "    time_train = 0.\n",
    "    time_test = 0.\n",
    "    if timed:\n",
    "        start = time.time()   \n",
    "    \n",
    "    #model training\n",
    "    neigh.fit(train_data,train_labels)\n",
    "    \n",
    "    if timed:\n",
    "        end = time.time()\n",
    "        time_train = end - start\n",
    "        start = time.time()\n",
    "    \n",
    "    #predict test_data, use threshold\n",
    "    soft_pred = neigh.predict_proba(test_data)\n",
    "    hard_pred = tb.customThreshold(soft_pred[:,1],thresh)\n",
    "    \n",
    "    if timed:\n",
    "        end = time.time()\n",
    "        time_test = end - start\n",
    "    \n",
    "    #\n",
    "    del neigh\n",
    "    return hard_pred,soft_pred,cv_score,time_train,time_test"
   ]
  },
  {
   "cell_type": "markdown",
   "metadata": {},
   "source": [
    "And:"
   ]
  },
  {
   "cell_type": "code",
   "execution_count": 29,
   "metadata": {
    "collapsed": true
   },
   "outputs": [],
   "source": [
    "def run_kNN(train_data,train_labels,test_data,k=20,p=2,featListName=\"not specified\"):\n",
    "    \n",
    "    #make soft prediction\n",
    "    soft_pred,cvs,time_train,time_test = kNN(train_data,train_labels,test_data,timed=True,k=k,p=p)[1:]\n",
    "    \n",
    "    #threshold soft prediction\n",
    "    hard_pred,maxAMS,maxThresh = tb.bestThreshold(soft_pred[:,1],sol_data)\n",
    "    \n",
    "    #calculate AMS and report it to user\n",
    "    b_ams,v_ams = tb.calcSetAMS(hard_pred,sol_data)\n",
    "    print(\"Public AMS:\",b_ams[0],\"|| Private AMS:\",v_ams[0],\"|| Threshold:\",maxThresh)\n",
    "    \n",
    "    ##save run's stats\n",
    "    res=np.empty((20,),dtype=\"<U16\")\n",
    "    res[:10]=[\"kNN\",\n",
    "            featListName,\n",
    "            str(cvs),\n",
    "            str(b_ams[0]),\n",
    "            str(v_ams[0]),\n",
    "            str(time_train),\n",
    "            str(time_test),\n",
    "            str(\"threshold=\"+str(maxThresh)),\n",
    "            str(\"k=\"+str(k)),\n",
    "            str(\"p=\"+str(p))\n",
    "           ]\n",
    "    res[10:]=\"None\"\n",
    "    tb.recordRun(res)\n",
    "    \n",
    "    return hard_pred,soft_pred[:,1]"
   ]
  },
  {
   "cell_type": "markdown",
   "metadata": {},
   "source": [
    "Now we produce our submission that resulted to the best public AMS that was achieved by kNN.  "
   ]
  },
  {
   "cell_type": "code",
   "execution_count": 30,
   "metadata": {
    "collapsed": false,
    "scrolled": true
   },
   "outputs": [
    {
     "data": {
      "text/plain": [
       "array(['kNN', 'header_6', '0.81892', '3.18534579809683',\n",
       "       '3.17144377327013', '1.25601601600646', '123.669127941131',\n",
       "       'threshold=0.7777', 'k=297', 'p=1', 'None', 'None', 'None', 'None',\n",
       "       'None', 'None', 'None', 'None', 'None', 'None'], \n",
       "      dtype='<U16')"
      ]
     },
     "execution_count": 30,
     "metadata": {},
     "output_type": "execute_result"
    }
   ],
   "source": [
    "best[2]"
   ]
  },
  {
   "cell_type": "markdown",
   "metadata": {},
   "source": [
    "We use feature set 6 (see Tab. 3 of the thesis)."
   ]
  },
  {
   "cell_type": "code",
   "execution_count": 31,
   "metadata": {
    "collapsed": true
   },
   "outputs": [],
   "source": [
    "header_6,train_6,test_6 = kD.getFeatureSubset(train_data,test_data,train_header,test_header,6)"
   ]
  },
  {
   "cell_type": "code",
   "execution_count": 32,
   "metadata": {
    "collapsed": false
   },
   "outputs": [
    {
     "name": "stdout",
     "output_type": "stream",
     "text": [
      "Public AMS: 3.1853457980968303 || Private AMS: 3.171443773270133 || Threshold: 0.777777777778\n"
     ]
    }
   ],
   "source": [
    "soft_pred = run_kNN(train_6,train_labels,test_6,k=297,p=1,featListName=\"header_6\")[1]"
   ]
  },
  {
   "cell_type": "markdown",
   "metadata": {},
   "source": [
    "We create the submission file subm_knn.csv ."
   ]
  },
  {
   "cell_type": "code",
   "execution_count": 33,
   "metadata": {
    "collapsed": true
   },
   "outputs": [],
   "source": [
    "tb.createSubmissionFile(soft_pred,fname=\"subm_knn.csv\",threshold=0.7777)"
   ]
  },
  {
   "cell_type": "markdown",
   "metadata": {},
   "source": [
    "## Gradient Boosting Classification"
   ]
  },
  {
   "cell_type": "code",
   "execution_count": 34,
   "metadata": {
    "collapsed": true
   },
   "outputs": [],
   "source": [
    "import sklearn.ensemble"
   ]
  },
  {
   "cell_type": "markdown",
   "metadata": {},
   "source": [
    "We produce a submission by using scikit-learn's implementation of gradient boosting.  \n",
    "We **do not** tune this classifier for optimal results, because we proceed to use XGBoost, as we follow the thesis."
   ]
  },
  {
   "cell_type": "code",
   "execution_count": 35,
   "metadata": {
    "collapsed": false
   },
   "outputs": [
    {
     "data": {
      "text/plain": [
       "array(['gbc', 'header_all', '0.869924', '3.28927069645223',\n",
       "       '3.42808660853669', '8322.90483593940', '10.2775928974151',\n",
       "       'threshold=0.6666', 'trees_=100', 'depth_=12', 'eta_=0.01',\n",
       "       'subsample_=0.9', 'None', 'None', 'None', 'None', 'None', 'None',\n",
       "       'None', 'None'], \n",
       "      dtype='<U16')"
      ]
     },
     "execution_count": 35,
     "metadata": {},
     "output_type": "execute_result"
    }
   ],
   "source": [
    "best[1]"
   ]
  },
  {
   "cell_type": "markdown",
   "metadata": {},
   "source": [
    "First, we make a test run on toy data and achieve a perfect score:"
   ]
  },
  {
   "cell_type": "code",
   "execution_count": 36,
   "metadata": {
    "collapsed": false
   },
   "outputs": [
    {
     "data": {
      "text/plain": [
       "1.0"
      ]
     },
     "execution_count": 36,
     "metadata": {},
     "output_type": "execute_result"
    }
   ],
   "source": [
    "gbc = sklearn.ensemble.GradientBoostingClassifier()\n",
    "gbc.fit(toy_train_x,toy_train_labels)\n",
    "pred = gbc.predict(toy_test_x)\n",
    "gbc.score(toy_train_x,toy_train_labels)"
   ]
  },
  {
   "cell_type": "markdown",
   "metadata": {},
   "source": [
    "For creating the submission file, we proceed just like for previous classification. We create a more general testing and a recording method."
   ]
  },
  {
   "cell_type": "code",
   "execution_count": 37,
   "metadata": {
    "collapsed": true
   },
   "outputs": [],
   "source": [
    "def gradientBoosting(train_data,label,test_data,timed=False,trees=100,depth=9,eta=0.1,threshold=0.14):\n",
    "    #setup\n",
    "    gbc = sklearn.ensemble.GradientBoostingClassifier()\n",
    "    gbc.set_params(init=None,\n",
    "               learning_rate=eta,\n",
    "               loss='deviance',               \n",
    "               max_depth=depth,\n",
    "               max_features=None,\n",
    "               max_leaf_nodes=None,\n",
    "               min_samples_leaf=1,\n",
    "               min_samples_split=2,\n",
    "               min_weight_fraction_leaf=0.0,\n",
    "               n_estimators=trees,\n",
    "               presort='auto',\n",
    "               random_state=None,\n",
    "               subsample=0.9,\n",
    "               verbose=0,\n",
    "               warm_start=False)\n",
    "    \n",
    "    #performance testing\n",
    "    time_train = 0.\n",
    "    time_test = 0.\n",
    "    if timed:\n",
    "        start = time.time()\n",
    "        \n",
    "    #training\n",
    "    gbc.fit(train_data,label)\n",
    "    \n",
    "    if timed:\n",
    "        end = time.time()\n",
    "        time_train = end - start\n",
    "    \n",
    "    #We did not perform actual cross-validation for gbc we substitue the cv score with gbc's accuracy score\n",
    "    cvs = gbc.score(train_data,label)\n",
    "    \n",
    "    if timed:\n",
    "        start = time.time()\n",
    "    \n",
    "    #predict test_data\n",
    "    soft_pred = gbc.predict_proba(test_data)\n",
    "    \n",
    "    if timed:\n",
    "        end = time.time()\n",
    "        time_test = end - start\n",
    "        \n",
    "    return soft_pred,cvs,time_train,time_test"
   ]
  },
  {
   "cell_type": "code",
   "execution_count": 38,
   "metadata": {
    "collapsed": true
   },
   "outputs": [],
   "source": [
    "def run_gbc(train_data,label,test_data,timed=False,trees=100,depth=9,eta=0.1,featListName=\"not specified\"):\n",
    "    \n",
    "    #make soft prediction\n",
    "    soft_pred,cvs,time_train,time_test = gradientBoosting(train_data,train_labels,test_data,timed=timed,trees=trees,depth=depth,eta=eta)\n",
    "\n",
    "    #threshold soft prediction\n",
    "    hard_pred,maxAMS,maxThresh = tb.bestThreshold(soft_pred[:,1],sol_data)\n",
    "    \n",
    "    #calculate AMS and report it to user\n",
    "    b_ams,v_ams = tb.calcSetAMS(hard_pred,sol_data)\n",
    "    print(\"Public AMS:\",b_ams[0],\"|| Private AMS:\",v_ams[0],\"|| Threshold:\", maxThresh)\n",
    "    \n",
    "    #save run's stats\n",
    "    res=np.empty((20,),dtype=\"<U16\")\n",
    "    res[:12]=[\"gbc\",\n",
    "            featListName,\n",
    "            str(cvs),\n",
    "            str(b_ams[0]),\n",
    "            str(v_ams[0]),\n",
    "            str(time_train),\n",
    "            str(time_test),\n",
    "            str(\"threshold=\"+str(maxThresh)),\n",
    "            str(\"trees_=\"+str(trees)),\n",
    "            str(\"depth_=\"+str(depth)),\n",
    "            str(\"eta_=\"+str(eta)),\n",
    "            str(\"subsample_=0.9\")\n",
    "            ]\n",
    "            \n",
    "    res[12:]=\"None\"\n",
    "    tb.recordRun(res)\n",
    "    \n",
    "    return hard_pred,soft_pred[:,1]"
   ]
  },
  {
   "cell_type": "markdown",
   "metadata": {},
   "source": [
    "If you intend to run the following methods on your computer, keep in mind that this run took **over an hour** to terminate."
   ]
  },
  {
   "cell_type": "code",
   "execution_count": null,
   "metadata": {
    "collapsed": false
   },
   "outputs": [],
   "source": [
    "#soft_pref = run_gbc(train_all,train_labels,test_all,timed=True,trees=100,depth=12,eta=0.01,featListName=\"header_all\")"
   ]
  },
  {
   "cell_type": "markdown",
   "metadata": {},
   "source": [
    "We create the submission file subm_gbc.csv"
   ]
  },
  {
   "cell_type": "code",
   "execution_count": null,
   "metadata": {
    "collapsed": true
   },
   "outputs": [],
   "source": [
    "#tb.createSubmissionFile(soft_pred,fname=\"subm_gbc.csv\",threshold=0.6666)"
   ]
  }
 ],
 "metadata": {
  "kernelspec": {
   "display_name": "Python 3",
   "language": "python",
   "name": "python3"
  },
  "language_info": {
   "codemirror_mode": {
    "name": "ipython",
    "version": 3
   },
   "file_extension": ".py",
   "mimetype": "text/x-python",
   "name": "python",
   "nbconvert_exporter": "python",
   "pygments_lexer": "ipython3",
   "version": "3.4.4"
  }
 },
 "nbformat": 4,
 "nbformat_minor": 0
}
