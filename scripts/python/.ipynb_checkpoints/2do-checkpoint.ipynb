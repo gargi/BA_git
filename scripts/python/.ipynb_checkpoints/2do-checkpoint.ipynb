{
 "cells": [
  {
   "cell_type": "markdown",
   "metadata": {},
   "source": [
    "# 2Do\n",
    "\n",
    "* Workflow verbessern\n",
    " * KaggleData optimieren/umstellen (direkt zu npArrays?)\n",
    " * LaTeX-export testen und ggf. anpassen\n",
    "* Schreiben beginnen\n",
    " * Intro, Motivation, Physik?\n",
    "  * erstmal hauptsächlich text, mathe für spätere Kapitel\n",
    "* feature-engineering/-selection\n",
    " * Egnineering?\n",
    " * Physics\n",
    "* Kaggle-Forum durchforsten\n",
    "* kNN probieren!\n",
    " * Blog suchen\n",
    "* XGBoost anschauen"
   ]
  },
  {
   "cell_type": "code",
   "execution_count": null,
   "metadata": {
    "collapsed": true
   },
   "outputs": [],
   "source": []
  }
 ],
 "metadata": {
  "kernelspec": {
   "display_name": "Python 3",
   "language": "python",
   "name": "python3"
  },
  "language_info": {
   "codemirror_mode": {
    "name": "ipython",
    "version": 3
   },
   "file_extension": ".py",
   "mimetype": "text/x-python",
   "name": "python",
   "nbconvert_exporter": "python",
   "pygments_lexer": "ipython3",
   "version": "3.5.1"
  }
 },
 "nbformat": 4,
 "nbformat_minor": 0
}
