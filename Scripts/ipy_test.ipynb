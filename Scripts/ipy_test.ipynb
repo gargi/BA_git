{
 "cells": [
  {
   "cell_type": "code",
   "execution_count": 15,
   "metadata": {
    "collapsed": false
   },
   "outputs": [],
   "source": [
    "from sklearn import linear_model\n",
    "import matplotlib.pyplot as plt\n",
    "import numpy as np\n",
    "import csv\n",
    "import os"
   ]
  },
  {
   "cell_type": "code",
   "execution_count": 16,
   "metadata": {
    "collapsed": true
   },
   "outputs": [],
   "source": [
    "folderPath = \"F:\\BA\\\\\"\n",
    "dataPath = folderPath + \"Data\\\\\"\n",
    "csvFile = dataPath + \"Atlas-higgs-challenge-2014-v2.csv\""
   ]
  },
  {
   "cell_type": "code",
   "execution_count": 17,
   "metadata": {
    "collapsed": true
   },
   "outputs": [],
   "source": [
    "def getFeatureList():\n",
    "    featureList = []\n",
    "    featureList.append(\"PRI_tau_phi\")\n",
    "    #featureList.append(\"DER_lep_eta_centrality\")\n",
    "    return featureList"
   ]
  },
  {
   "cell_type": "code",
   "execution_count": 18,
   "metadata": {
    "collapsed": true
   },
   "outputs": [],
   "source": [
    "def createCsvDictionary(csvF):\n",
    "\tcsvDict = {}\n",
    "\tprint(\"\\n\\n\\n\")\n",
    "\tprint(\"=== Reading csv file \",csvF, \"===\\n\\n\")\n",
    "\twith open(csvF, 'r') as f:\n",
    "\t\tcsvR = csv.reader(f)\n",
    "\t\theader=next(csvR) # header\n",
    "\t\tiid=header.index(\"EventId\")\n",
    "\t\tfor row in csvR:\n",
    "\t\t\tcsvDict[row[iid]] = row\n",
    "\treturn csvDict,header"
   ]
  },
  {
   "cell_type": "code",
   "execution_count": 19,
   "metadata": {
    "collapsed": true
   },
   "outputs": [],
   "source": [
    "def getDataDictionary(kaggleSet = \"all\"):\n",
    "\tcsvDict,header = createCsvDictionary(csvFile)\n",
    "\n",
    "\tindexKaggleSet = header.index(\"KaggleSet\")\n",
    "\tindexLabel=header.index(\"Label\")\n",
    "\n",
    "\tfeatureList = getFeatureList()\n",
    "\tfeatureIndex = []\n",
    "\n",
    "\tdataHeader = []\n",
    "\tdataHeader.append(\"EventId\")\n",
    "\t\n",
    "\n",
    "\tfor feature in featureList:\n",
    "\t\tdataHeader.append(feature)\n",
    "\t\tfeatureIndex.append(header.index(feature))\n",
    "\n",
    "\tdataDict = {}\n",
    "\n",
    "\n",
    "\tfor event in csvDict:\n",
    "\t\tif csvDict[event][indexKaggleSet] is kaggleSet or kaggleSet is \"all\":\n",
    "\t\t\thelplist = []\n",
    "\t\t\ti=0\n",
    "\t\t\tfor featureName in dataHeader:\n",
    "\t\t\t\tfeatureID = header.index(featureName)\n",
    "\t\t\t\tfeatureValue = csvDict[event][featureID]\n",
    "\t\t\t\t# dataDict[eventID][i] = csvDict[eventID][featureID]\n",
    "\t\t\t\thelplist.append(featureValue)\n",
    "\t\t\t\ti = i + 1\n",
    "\n",
    "\t\t\tlabel = csvDict[event][indexLabel]\n",
    "\t\t\tif label == \"s\":\n",
    "\t\t\t\tlabelColor = \"b\" ##signal = blue\n",
    "\t\t\t\thelplist.append(1)\n",
    "\t\t\telif label == \"b\":\n",
    "\t\t\t\tlabelColor = \"r\" ##background = red\n",
    "\t\t\t\thelplist.append(0)\n",
    "\t\t\telse:\n",
    "\t\t\t\tprint(\"ERROR in Labels!\")\n",
    "\n",
    "\t\t\thelplist.append(labelColor)\n",
    "\t\t\t\t##cutting Errors\n",
    "\t\t\tif \"-999.0\" in helplist:\n",
    "\t\t\t\tcontinue\n",
    "\t\t\tdataDict[event] = helplist\n",
    "\tprint(\"Dictionary-Lecgth:\", len(dataDict))\n",
    "\treturn dataDict"
   ]
  },
  {
   "cell_type": "code",
   "execution_count": 20,
   "metadata": {
    "collapsed": true
   },
   "outputs": [],
   "source": [
    "def getData():\n",
    "\tdataDict = getDataDictionary(kaggleSet = \"t\")\n",
    "\tprint(dataDict[\"297317\"])\n",
    "\n",
    "\tx = np.ndarray([len(dataDict),len(getFeatureList())])\n",
    "\ty = np.ndarray([len(dataDict),1])\n",
    "\tcolors = []\n",
    "\n",
    "\ti=0\n",
    "\tfor event in dataDict:\n",
    "\t\tcolors.append(dataDict[event][-1])\n",
    "\t\ty[i]=dataDict[event][-2]\n",
    "\t\t#print(\"Y = \",y[i])\n",
    "\t\t#print(\"Color = \", colors[i])\n",
    "\t\tx[i][:]=dataDict[event][1:-2]\n",
    "\t\t#print(\"X = \",x[i])\n",
    "\t\ti = i + 1\n",
    "\n",
    "\tprint(x)\n",
    "\treturn x,y,colors"
   ]
  },
  {
   "cell_type": "code",
   "execution_count": 21,
   "metadata": {
    "collapsed": true
   },
   "outputs": [],
   "source": [
    "def plot(x, y, colors, regr):\n",
    "\tx_axis1 = x[:,0]\n",
    "\tx_axis2 = x[:,1]\n",
    "\n",
    "\tplt.scatter(x_axis1, x_axis2,s=2, edgecolor=\"\", c=colors, alpha=0.1)\n",
    "\tplt.plot(x, regr.predict(x), color='blue',linewidth=1)\n",
    "\n",
    "\tplt.xticks(())\n",
    "\tplt.yticks(())\n",
    "\n",
    "\tplt.show()"
   ]
  },
  {
   "cell_type": "code",
   "execution_count": 22,
   "metadata": {
    "collapsed": true
   },
   "outputs": [],
   "source": [
    "def test_genX(size):\n",
    "\tx = np.random.random(size)\n",
    "\treturn x"
   ]
  },
  {
   "cell_type": "code",
   "execution_count": 23,
   "metadata": {
    "collapsed": true
   },
   "outputs": [],
   "source": [
    "def test_genY(size):\n",
    "\ty = np.random.randint(0,2,(size))\n",
    "\treturn y"
   ]
  },
  {
   "cell_type": "code",
   "execution_count": 24,
   "metadata": {
    "collapsed": true
   },
   "outputs": [],
   "source": [
    "def test_genData(size):\n",
    "\tx = test_genX(size)\n",
    "\ty = test_genY(size)\n",
    "\treturn x,y"
   ]
  },
  {
   "cell_type": "code",
   "execution_count": 25,
   "metadata": {
    "collapsed": true
   },
   "outputs": [],
   "source": [
    "def test_linreg():\n",
    "\tx,y,colors = getData()\n",
    "\n",
    "\tprint(\"Shape x:\",x.shape)\n",
    "\tprint(\"Shape y:\",y.shape)\n",
    "\n",
    "\tx_train = x[:-20000]\n",
    "\tx_test = x[-20000:]\n",
    "\n",
    "\ty_train = y[:-20000]\n",
    "\ty_test = y[-20000:]\n",
    "\n",
    "\tcolors_test = colors[-20000:]\n",
    "\n",
    "\tprint(\"Length x_train:\", len(x_train))\n",
    "\tprint(\"Shape x_train:\",x_train.shape)\n",
    "\t\n",
    "\tprint(\"Length y_train:\", len(y_train))\n",
    "\tprint(\"Shape y_train:\",y_train.shape)\n",
    "\n",
    "\tprint(\"Length x_test:\", len(x_test))\n",
    "\tprint(\"Shape x_test:\",x_test.shape)\n",
    "\tprint(\"Length y_test:\", len(y_test))\n",
    "\tprint(\"Shape y_test:\",y_test.shape)\n",
    "\ty_test2 = np.empty(x_test.shape)\n",
    "\t(rows,columns) = y_test2.shape\n",
    "\tprint(\"Shape y_test2:\",y_test2.shape)\n",
    "\tfor i in range(rows):\n",
    "\t\tfor j in range(columns):\n",
    "\t\t\ty_test2[i][j] = y_test[i]\n",
    "\n",
    "\tprint(\"Shape y_test2:\",y_test2.shape)\n",
    "\tprint(\"Length colors_test:\", len(colors_test))\n",
    "\n",
    "\n",
    "\t# print(x_test)\n",
    "\t# print(y_test)\n",
    "\n",
    "\tregr = linear_model.LinearRegression()\n",
    "\n",
    "\tregr.fit(x_train,y_train)\n",
    "\n",
    "\tprint('Coefficients: \\n', regr.coef_)\n",
    "\t# The mean square error\n",
    "\tprint(\"Residual sum of squares: %.2f\"\n",
    "\t\t% np.mean((regr.predict(x_test) - y_test) ** 2))\n",
    "\t# Explained variance score: 1 is perfect prediction\n",
    "\tprint('Variance score: %.2f' % regr.score(x_test, y_test))\n",
    "\n",
    "\t# x_test2 = x_test[:,0]\n",
    "\t# print(x_test2)\n",
    "\t# y_test2 = y_test[:,0]\n",
    "\t# print(y_test2)\n",
    "\t\n",
    "\n",
    "\tplot( x_test, y_test2, colors_test, regr)"
   ]
  },
  {
   "cell_type": "code",
   "execution_count": 26,
   "metadata": {
    "collapsed": false
   },
   "outputs": [
    {
     "name": "stdout",
     "output_type": "stream",
     "text": [
      "\n",
      "\n",
      "\n",
      "\n",
      "=== Reading csv file  F:\\BA\\Data\\Atlas-higgs-challenge-2014-v2.csv ===\n",
      "\n",
      "\n",
      "Dictionary-Lecgth: 250000\n",
      "['297317', '2.514', 1, 'b']\n",
      "[[ 0.666]\n",
      " [-0.195]\n",
      " [-2.621]\n",
      " ..., \n",
      " [ 1.086]\n",
      " [-0.291]\n",
      " [-3.102]]\n",
      "Shape x: (250000, 1)\n",
      "Shape y: (250000, 1)\n",
      "Length x_train: 230000\n",
      "Shape x_train: (230000, 1)\n",
      "Length y_train: 230000\n",
      "Shape y_train: (230000, 1)\n",
      "Length x_test: 20000\n",
      "Shape x_test: (20000, 1)\n",
      "Length y_test: 20000\n",
      "Shape y_test: (20000, 1)\n",
      "Shape y_test2: (20000, 1)\n",
      "Shape y_test2: (20000, 1)\n",
      "Length colors_test: 20000\n",
      "Coefficients: \n",
      " [[-0.00126792]]\n",
      "Residual sum of squares: 0.22\n",
      "Variance score: -0.00\n",
      "all done(?)\n"
     ]
    },
    {
     "name": "stderr",
     "output_type": "stream",
     "text": [
      "E:\\Anaconda3\\lib\\site-packages\\matplotlib\\collections.py:590: FutureWarning: elementwise comparison failed; returning scalar instead, but in the future will perform elementwise comparison\n",
      "  if self._edgecolors == str('face'):\n"
     ]
    }
   ],
   "source": [
    "if __name__ == \"__main__\":\n",
    "\n",
    "\t#read csv\n",
    "\t#csvDict,header = createCsvDictionary(csvFile)\n",
    "\t#getDataDictionary(None,None)\n",
    "\ttest_linreg()\n",
    "\tprint(\"all done(?)\")"
   ]
  }
 ],
 "metadata": {
  "kernelspec": {
   "display_name": "Python 3",
   "language": "python",
   "name": "python3"
  },
  "language_info": {
   "codemirror_mode": {
    "name": "ipython",
    "version": 3
   },
   "file_extension": ".py",
   "mimetype": "text/x-python",
   "name": "python",
   "nbconvert_exporter": "python",
   "pygments_lexer": "ipython3",
   "version": "3.4.3"
  }
 },
 "nbformat": 4,
 "nbformat_minor": 0
}
