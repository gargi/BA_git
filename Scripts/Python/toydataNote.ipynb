{
 "cells": [
  {
   "cell_type": "markdown",
   "metadata": {},
   "source": [
    "# Using logistic Regression on Toydata to get a high AMS"
   ]
  },
  {
   "cell_type": "code",
   "execution_count": 455,
   "metadata": {
    "collapsed": true
   },
   "outputs": [],
   "source": [
    "import numpy as np\n",
    "import matplotlib.pyplot as plt\n",
    "import math\n",
    "from sklearn import linear_model as linMod"
   ]
  },
  {
   "cell_type": "markdown",
   "metadata": {},
   "source": [
    "We generate well diversible Toydata in form of a 4-dimensional Vector\n",
    "\n",
    "Data shall have the form of $[w,y,x_1,x_2]$ where\n",
    "\n",
    "$w$ is a weight in the intervall $[0,1)$       \n",
    "$y$ is the label \"0\" for \"background\" or \"1\" for \"signal\"       \n",
    "$x_n$ are randomly generated features with respect to the label"
   ]
  },
  {
   "cell_type": "code",
   "execution_count": 772,
   "metadata": {
    "collapsed": true
   },
   "outputs": [],
   "source": [
    "def generateFeature(label, mu_s, mu_b, sigma_s=5, sigma_b=5):\n",
    "    if label is 1:\n",
    "        mu = mu_s\n",
    "        sigma = sigma_s\n",
    "    else:\n",
    "        mu = mu_b\n",
    "        sigma = sigma_b\n",
    "    return np.random.normal(mu,sigma)"
   ]
  },
  {
   "cell_type": "markdown",
   "metadata": {},
   "source": [
    "Approximate Median Significance (AMS) defined as:\n",
    "\n",
    "$$AMS = \\sqrt{2 { (s + b + b_r) log[1 + (s/(b+b_{reg}))] - s}}$$     \n",
    "        \n",
    "where $b_{reg} = 10$ is a regulization term (set by the contest),      \n",
    "$b = \\sum_{i=1}^{n} w_i, y_i=0$ is sum of weighted background (incorrectly classified as signal),           \n",
    "$s = \\sum_{i=1}^{n} w_i, y_i=1$ is sum of weighted signals (correctly classified as signal),           \n",
    "$log$ is natural logarithm"
   ]
  },
  {
   "cell_type": "code",
   "execution_count": 773,
   "metadata": {
    "collapsed": true
   },
   "outputs": [],
   "source": [
    "def calcAMS(s,b):\n",
    "    br = 10.0\n",
    "    radicand = 2 *( (s+b+br) * math.log (1.0 + s/(b+br)) -s)\n",
    "    if radicand < 0:\n",
    "        print('radicand is negative. Exiting')\n",
    "        exit()\n",
    "    else:\n",
    "        return math.sqrt(radicand)"
   ]
  },
  {
   "cell_type": "code",
   "execution_count": 774,
   "metadata": {
    "collapsed": false
   },
   "outputs": [],
   "source": [
    "def calcWeightSums(weights,preds,labels):\n",
    "    s = 0\n",
    "    b = 0\n",
    "    for j in list(range(0,len(preds))):\n",
    "        pred = preds[j]\n",
    "        label = labels[j]\n",
    "        weight = weights[j]\n",
    "        if pred > 0.:\n",
    "            if label > 0.:\n",
    "                s += weight\n",
    "            else:\n",
    "                b += weight\n",
    "    return s,b"
   ]
  },
  {
   "cell_type": "markdown",
   "metadata": {},
   "source": [
    "actually generate data"
   ]
  },
  {
   "cell_type": "code",
   "execution_count": 778,
   "metadata": {
    "collapsed": false
   },
   "outputs": [],
   "source": [
    "n = 100000 #toydata shall have n vectors with 5 dimensions\n",
    "s_prob = 0.05 #probability for signal-label\n",
    "weights = np.random.rand(n) #random values will be used as weights for evaluation later\n",
    "labels = np.zeros(n)\n",
    "x_1 = np.zeros(n)\n",
    "x_2 = np.zeros(n)\n",
    "\n",
    "for i in range(0,n):\n",
    "    if weights[i] <= s_prob:\n",
    "        label = 1\n",
    "    else:\n",
    "        label = 0\n",
    "    labels[i] = label\n",
    "    x_1[i]=generateFeature(label,mu_s=5,mu_b=20)\n",
    "    x_2[i]=generateFeature(label,mu_s=5,mu_b=25)"
   ]
  },
  {
   "cell_type": "markdown",
   "metadata": {},
   "source": [
    "visualize"
   ]
  },
  {
   "cell_type": "code",
   "execution_count": 779,
   "metadata": {
    "collapsed": true
   },
   "outputs": [],
   "source": [
    "plt.scatter(x_1, x_2, edgecolor=\"\", c=labels, alpha=0.5)\n",
    "plt.show()"
   ]
  },
  {
   "cell_type": "code",
   "execution_count": 780,
   "metadata": {
    "collapsed": true
   },
   "outputs": [],
   "source": [
    "def splitList(xList,n):\n",
    "    aList = xList[:n]\n",
    "    bList = xList[n:]\n",
    "    return aList,bList"
   ]
  },
  {
   "cell_type": "markdown",
   "metadata": {},
   "source": [
    "split toydata into training- and testset for the classifier"
   ]
  },
  {
   "cell_type": "code",
   "execution_count": 781,
   "metadata": {
    "collapsed": false
   },
   "outputs": [],
   "source": [
    "n_train = int(n/10)\n",
    "\n",
    "train_x_1,test_x_1 = splitList(x_1,n_train)\n",
    "train_x_2,test_x_2 = splitList(x_2,n_train)\n",
    "train_labels,test_labels = splitList(labels,n_train)\n",
    "test_weights = splitList(weights,n_train)[1]"
   ]
  },
  {
   "cell_type": "markdown",
   "metadata": {},
   "source": [
    "For Comparison, we calculate the best possible AMS (case: every signal correctly detected)"
   ]
  },
  {
   "cell_type": "code",
   "execution_count": 782,
   "metadata": {
    "collapsed": true
   },
   "outputs": [],
   "source": [
    "def calcMaxAMS(weights,labels):\n",
    "    s,b = calcWeightSums(weights,labels,labels)\n",
    "    ams = calcAMS(s,b)\n",
    "    print(\"Maximum AMS possible with this Data:\", ams)\n",
    "    return ams"
   ]
  },
  {
   "cell_type": "code",
   "execution_count": 783,
   "metadata": {
    "collapsed": false,
    "scrolled": true
   },
   "outputs": [
    {
     "name": "stdout",
     "output_type": "stream",
     "text": [
      "Maximum AMS possible with this Data: 19.816158976625637\n"
     ]
    },
    {
     "data": {
      "text/plain": [
       "19.816158976625637"
      ]
     },
     "execution_count": 783,
     "metadata": {},
     "output_type": "execute_result"
    }
   ],
   "source": [
    "calcMaxAMS(test_weights,test_labels)"
   ]
  },
  {
   "cell_type": "markdown",
   "metadata": {},
   "source": [
    "we initialize the Logistic Regression Classifier, shape the input-data and fit the model"
   ]
  },
  {
   "cell_type": "code",
   "execution_count": 784,
   "metadata": {
    "collapsed": false
   },
   "outputs": [
    {
     "name": "stdout",
     "output_type": "stream",
     "text": [
      "(10000, 2)\n",
      "Score: 0.997644444444\n"
     ]
    }
   ],
   "source": [
    "logReg = linMod.LogisticRegression(C=1e5)\n",
    "\n",
    "train_x = np.array([train_x_1,train_x_2]).transpose()\n",
    "test_x = np.array([test_x_1,test_x_2]).transpose()\n",
    "train_labels = np.array(train_labels).transpose()\n",
    "test_labels = np.array(test_labels).transpose()\n",
    "\n",
    "logReg.fit(train_x,train_labels)\n",
    "\n",
    "logReg.sparsify()\n",
    "\n",
    "predProb = logReg.predict_proba(test_x)\n",
    "pred = logReg.predict(test_x)\n",
    "score = logReg.score(test_x,test_labels)\n",
    "\n",
    "print(\"Score:\", score)"
   ]
  },
  {
   "cell_type": "code",
   "execution_count": 785,
   "metadata": {
    "collapsed": false
   },
   "outputs": [
    {
     "data": {
      "text/plain": [
       "12.529617976701001"
      ]
     },
     "execution_count": 785,
     "metadata": {},
     "output_type": "execute_result"
    }
   ],
   "source": [
    "s,b = calcWeightSums(test_weights,pred,test_labels)\n",
    "calcAMS(s,b)"
   ]
  }
 ],
 "metadata": {
  "kernelspec": {
   "display_name": "Python 3",
   "language": "python",
   "name": "python3"
  },
  "language_info": {
   "codemirror_mode": {
    "name": "ipython",
    "version": 3
   },
   "file_extension": ".py",
   "mimetype": "text/x-python",
   "name": "python",
   "nbconvert_exporter": "python",
   "pygments_lexer": "ipython3",
   "version": "3.4.3"
  }
 },
 "nbformat": 4,
 "nbformat_minor": 0
}
