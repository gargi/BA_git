{
 "cells": [
  {
   "cell_type": "code",
   "execution_count": null,
   "metadata": {
    "collapsed": true
   },
   "outputs": [],
   "source": [
    "%Date: 04.01.2016"
   ]
  },
  {
   "cell_type": "code",
   "execution_count": 1,
   "metadata": {
    "collapsed": true
   },
   "outputs": [],
   "source": [
    "import numpy as np\n",
    "import matplotlib.pyplot as plt\n",
    "import math"
   ]
  },
  {
   "cell_type": "markdown",
   "metadata": {},
   "source": [
    "Approximate Median Significance (AMS) defined as:      \n",
    "$$AMS = \\sqrt{2 { (s + b + b_r) log[1 + (s/(b+b_{reg}))] - s}}$$  \n",
    "\n",
    "where:    \n",
    "- $b_{reg} = 10$ is a regulization term (set by the contest),\n",
    "- $b = \\sum_{i=1}^{n} w_i, y_i=0$ is sum of weighted background (incorrectly classified as signal),\n",
    "- $s = \\sum_{i=1}^{n} w_i, y_i=1$ is sum of weighted signals (correctly classified as signal),\n",
    "- $log$ is natural logarithm"
   ]
  },
  {
   "cell_type": "code",
   "execution_count": 2,
   "metadata": {
    "collapsed": true
   },
   "outputs": [],
   "source": [
    "def calcAMS(s,b):    \n",
    "    br = 10.0\n",
    "    radicand = 2 *( (s+b+br) * math.log (1.0 + s/(b+br)) -s)\n",
    "    if radicand < 0:\n",
    "        print('radicand is negative. Exiting')\n",
    "        exit()\n",
    "    else:\n",
    "        ams = math.sqrt(radicand)\n",
    "        print(\"AMS:\", ams)\n",
    "        return ams"
   ]
  },
  {
   "cell_type": "markdown",
   "metadata": {},
   "source": [
    "Following this definition, we can derive a maximum AMS by simply summing the weights of all positive labels."
   ]
  },
  {
   "cell_type": "code",
   "execution_count": 3,
   "metadata": {
    "collapsed": true
   },
   "outputs": [],
   "source": [
    "def calcWeightSums(weights,preds,labels):\n",
    "    s = 0\n",
    "    b = 0\n",
    "    for j in list(range(0,len(preds))):\n",
    "        pred = preds[j]\n",
    "        label = labels[j]\n",
    "        weight = weights[j]\n",
    "        if pred > 0.:\n",
    "            if label > 0.:\n",
    "                s += weight\n",
    "            else:\n",
    "                b += weight\n",
    "    return s,b"
   ]
  },
  {
   "cell_type": "markdown",
   "metadata": {},
   "source": [
    "Data shall have the form of $[w,y,x_1,x_2]$ where\n",
    "\n",
    "- $w$ is a weight in the intervall $[0,1)$\n",
    "- $y$ is the label \"0\" for \"background\" or \"1\" for \"signal\"\n",
    "- $x_n$ are randomly generated features with respect to the label"
   ]
  },
  {
   "cell_type": "code",
   "execution_count": 4,
   "metadata": {
    "collapsed": true
   },
   "outputs": [],
   "source": [
    "def calcMaxAMS(weights,labels):\n",
    "    s,b = calcWeightSums(weights,labels,labels)\n",
    "    ams = calcAMS(s,b)\n",
    "    print(\"Found\", int(labels.cumsum()[-1]), \"signals.\")\n",
    "    print(\"Weightsums signal:\", s, \"| background:\", b)\n",
    "    print(\"Maximum AMS possible with this Data:\", ams)\n",
    "    return ams"
   ]
  },
  {
   "cell_type": "markdown",
   "metadata": {},
   "source": [
    "We generate AMS with good seperable toy-data, starting with the maximum AMS. \n",
    "The data of the actual challenge is weighted to punish wrong-identified signals significantly harder than wrong background. Our toy-data will do so by using its signal-probability as weight, the features are randomized by normal distributions.\n"
   ]
  },
  {
   "cell_type": "code",
   "execution_count": 5,
   "metadata": {
    "collapsed": true
   },
   "outputs": [],
   "source": [
    "def generateFeature(label, mu_s, mu_b, sigma_s=5, sigma_b=5):\n",
    "    if label is 1:\n",
    "        mu = mu_s\n",
    "        sigma = sigma_s\n",
    "    else:\n",
    "        mu = mu_b\n",
    "        sigma = sigma_b\n",
    "    return np.random.normal(mu,sigma)"
   ]
  },
  {
   "cell_type": "code",
   "execution_count": 6,
   "metadata": {
    "collapsed": false
   },
   "outputs": [],
   "source": [
    "def createToyData(n = 100,dim = 3,s_prob = 0.05):\n",
    "    data= np.zeros(shape = (n,dim),dtype=float)\n",
    "    if dim < 3:\n",
    "        print(\"Operation canceled.\",\n",
    "              \"Data should have at least one\",\n",
    "              \"additional dimension besides weights and labels.\",\n",
    "              \"(dim >=3)\")\n",
    "        return None\n",
    "    data[:,0] = np.random.rand(n) #weights\n",
    "    for i in range(0,n):\n",
    "        if data[i,0] <= s_prob: # label-determination\n",
    "            label = 1\n",
    "        else:\n",
    "            label = 0\n",
    "        data[i,1] = label\n",
    "        for j in range(2,dim):\n",
    "            #mu_s=j*5\n",
    "            #mu_b=j*20\n",
    "            data[i,j]=generateFeature(label,mu_s=(j-1)*5,mu_b=(j-1)*20)\n",
    "    return data"
   ]
  },
  {
   "cell_type": "code",
   "execution_count": 7,
   "metadata": {
    "collapsed": false
   },
   "outputs": [],
   "source": [
    "n = 100000\n",
    "prob = 0.05\n",
    "data = createToyData(n,dim=10,s_prob=prob)"
   ]
  },
  {
   "cell_type": "code",
   "execution_count": 8,
   "metadata": {
    "collapsed": false,
    "scrolled": true
   },
   "outputs": [
    {
     "name": "stdout",
     "output_type": "stream",
     "text": [
      "AMS: 21.19484139384361\n",
      "Found 5020 signals.\n",
      "Weightsums signal: 124.326027277 | background: 0\n",
      "Maximum AMS possible with this Data: 21.19484139384361\n"
     ]
    }
   ],
   "source": [
    "weights = data[:,0]\n",
    "labels = data[:,1]\n",
    "calcMaxAMS(weights,labels);"
   ]
  },
  {
   "cell_type": "markdown",
   "metadata": {},
   "source": [
    "We randomly guess labels for a solution for a second AMS with knowledge about the toydatas signal-probability."
   ]
  },
  {
   "cell_type": "code",
   "execution_count": 9,
   "metadata": {
    "collapsed": true
   },
   "outputs": [],
   "source": [
    "sol_weights = np.random.rand(n)\n",
    "sol = np.zeros(n)\n",
    "for i in range(0,n):\n",
    "    if sol_weights[i] <= prob: # label-determination\n",
    "        sol[i] = 1\n",
    "    else:\n",
    "        sol[i] = 0"
   ]
  },
  {
   "cell_type": "code",
   "execution_count": 157,
   "metadata": {
    "collapsed": true
   },
   "outputs": [],
   "source": [
    "s,b = calcWeightSums(weights,sol,labels)\n",
    "br = 10"
   ]
  },
  {
   "cell_type": "code",
   "execution_count": 169,
   "metadata": {
    "collapsed": false
   },
   "outputs": [],
   "source": [
    "s*=10"
   ]
  },
  {
   "cell_type": "code",
   "execution_count": 163,
   "metadata": {
    "collapsed": false
   },
   "outputs": [],
   "source": [
    "b*=10"
   ]
  },
  {
   "cell_type": "code",
   "execution_count": 170,
   "metadata": {
    "collapsed": false,
    "scrolled": true
   },
   "outputs": [
    {
     "data": {
      "text/plain": [
       "25055.584526883151"
      ]
     },
     "execution_count": 170,
     "metadata": {},
     "output_type": "execute_result"
    }
   ],
   "source": [
    "s+b+br"
   ]
  },
  {
   "cell_type": "code",
   "execution_count": 171,
   "metadata": {
    "collapsed": false
   },
   "outputs": [
    {
     "data": {
      "text/plain": [
       "1.002459486418638"
      ]
     },
     "execution_count": 171,
     "metadata": {},
     "output_type": "execute_result"
    }
   ],
   "source": [
    "1.0 + s/(b+br)"
   ]
  },
  {
   "cell_type": "code",
   "execution_count": 172,
   "metadata": {
    "collapsed": false,
    "scrolled": true
   },
   "outputs": [
    {
     "data": {
      "text/plain": [
       "0.002456466831991091"
      ]
     },
     "execution_count": 172,
     "metadata": {},
     "output_type": "execute_result"
    }
   ],
   "source": [
    "math.log(1.0 + s/(b+br))"
   ]
  },
  {
   "cell_type": "code",
   "execution_count": 173,
   "metadata": {
    "collapsed": false
   },
   "outputs": [
    {
     "data": {
      "text/plain": [
       "0.38867392440571713"
      ]
     },
     "execution_count": 173,
     "metadata": {},
     "output_type": "execute_result"
    }
   ],
   "source": [
    "math.sqrt( 2 *( (s+b+br) * math.log (1.0 + s/(b+br)) -s) )"
   ]
  },
  {
   "cell_type": "code",
   "execution_count": 174,
   "metadata": {
    "collapsed": false,
    "scrolled": true
   },
   "outputs": [
    {
     "name": "stdout",
     "output_type": "stream",
     "text": [
      "AMS: 0.38867392440571713\n"
     ]
    }
   ],
   "source": [
    "calcAMS(s,b);"
   ]
  },
  {
   "cell_type": "markdown",
   "metadata": {
    "collapsed": true
   },
   "source": [
    "AMS-Scores:\n",
    "1.  (rank #998, rank #999 with k = 100)   \n",
    "    kNN: 3.1689810059694348 with k = 200 and featurelist:\n",
    "    * \"DER_mass_MMC\",\n",
    "    * \"DER_mass_transverse_met_lep\",\n",
    "    * \"DER_mass_vis\",\n",
    "    * \"DER_met_phi_centrality\",\n",
    "    * \"DER_pt_ratio_lep_tau\",\n",
    "    * \"PRI_tau_pt\",\n",
    "    * \"DER_pt_h\"\n",
    "2. (rank #1473)   \n",
    "    logistic Regression: 2.0563933037592506 with all features"
   ]
  },
  {
   "cell_type": "code",
   "execution_count": null,
   "metadata": {
    "collapsed": true
   },
   "outputs": [],
   "source": []
  }
 ],
 "metadata": {
  "kernelspec": {
   "display_name": "Python 3",
   "language": "python",
   "name": "python3"
  },
  "language_info": {
   "codemirror_mode": {
    "name": "ipython",
    "version": 3
   },
   "file_extension": ".py",
   "mimetype": "text/x-python",
   "name": "python",
   "nbconvert_exporter": "python",
   "pygments_lexer": "ipython3",
   "version": "3.4.3"
  }
 },
 "nbformat": 4,
 "nbformat_minor": 0
}
