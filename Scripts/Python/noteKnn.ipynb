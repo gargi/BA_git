{
 "cells": [
  {
   "cell_type": "raw",
   "metadata": {},
   "source": [
    "% Date 01.11.16"
   ]
  },
  {
   "cell_type": "code",
   "execution_count": 1,
   "metadata": {
    "collapsed": false
   },
   "outputs": [],
   "source": [
    "import numpy as np\n",
    "import matplotlib.pyplot as plt\n",
    "from matplotlib.colors import ListedColormap\n",
    "from sklearn import neighbors, datasets\n",
    "import toolbox as tb\n",
    "import kaggleData as kD"
   ]
  },
  {
   "cell_type": "code",
   "execution_count": null,
   "metadata": {
    "collapsed": false
   },
   "outputs": [],
   "source": [
    "#toydata shall have n vectors with 5 dimensions\n",
    "n = 100000\n",
    "#probability for signal-label\n",
    "s_prob = 0.05\n",
    "dim = 4\n",
    "data = tb.createToyData(n,dim,s_prob)\n",
    "weights = data[:,0]\n",
    "labels = data[:,1]\n",
    "x_1 = data[:,2]\n",
    "x_2 = data[:,3]\n",
    "\n",
    "%pylab inline\n",
    "plt.scatter(x_1, x_2, edgecolor=\"\", c=labels, alpha=0.5)"
   ]
  },
  {
   "cell_type": "markdown",
   "metadata": {},
   "source": [
    "For Comparison, we calculate the best possible AMS    \n",
    "(case: every signal correctly detected)"
   ]
  },
  {
   "cell_type": "code",
   "execution_count": null,
   "metadata": {
    "collapsed": false
   },
   "outputs": [],
   "source": [
    "tb.calcMaxAMS(weights,labels);"
   ]
  },
  {
   "cell_type": "markdown",
   "metadata": {},
   "source": [
    "prepare (=normalize) data"
   ]
  },
  {
   "cell_type": "code",
   "execution_count": null,
   "metadata": {
    "collapsed": false,
    "scrolled": true
   },
   "outputs": [],
   "source": [
    "X=data[:,2:4]\n",
    "X /= np.max(np.abs(X),axis=0)"
   ]
  },
  {
   "cell_type": "code",
   "execution_count": null,
   "metadata": {
    "collapsed": false
   },
   "outputs": [],
   "source": [
    "n_train = int(n/10)\n",
    "\n",
    "train_X,test_X = tb.splitList(X,n_train)\n",
    "train_labels,test_labels = tb.splitList(labels,n_train)\n",
    "test_weights = tb.splitList(weights,n_train)[1]"
   ]
  },
  {
   "cell_type": "code",
   "execution_count": null,
   "metadata": {
    "collapsed": false,
    "scrolled": true
   },
   "outputs": [],
   "source": [
    "tb.calcMaxAMS(test_weights,test_labels);"
   ]
  },
  {
   "cell_type": "markdown",
   "metadata": {},
   "source": [
    "classify with knN"
   ]
  },
  {
   "cell_type": "code",
   "execution_count": null,
   "metadata": {
    "collapsed": false
   },
   "outputs": [],
   "source": [
    "neigh = neighbors.KNeighborsClassifier(n_neighbors=5,n_jobs=4)\n",
    "neigh.fit(train_X,train_labels)"
   ]
  },
  {
   "cell_type": "code",
   "execution_count": null,
   "metadata": {
    "collapsed": false
   },
   "outputs": [],
   "source": [
    "pred = neigh.predict(test_X)"
   ]
  },
  {
   "cell_type": "code",
   "execution_count": null,
   "metadata": {
    "collapsed": false
   },
   "outputs": [],
   "source": [
    "%pylab inline\n",
    "plt.scatter(test_X[:,0], test_X[:,1], edgecolor=\"\", c=pred, alpha=0.5)"
   ]
  },
  {
   "cell_type": "code",
   "execution_count": null,
   "metadata": {
    "collapsed": false
   },
   "outputs": [],
   "source": [
    "s,b = tb.calcWeightSums(test_weights,pred,test_labels)\n",
    "print(\"AMS:\",tb.calcAMS(s,b))"
   ]
  },
  {
   "cell_type": "code",
   "execution_count": 2,
   "metadata": {
    "collapsed": false
   },
   "outputs": [],
   "source": [
    "def kNN(train_data,train_labels,test_data,k=5,softPred = True,returnClassifier = False):\n",
    "    neigh = neighbors.KNeighborsClassifier(k,weights='distance',n_jobs=4)\n",
    "    neigh.fit(train_data,train_labels)\n",
    "    if softPred is True:\n",
    "        pred = neigh.predict_proba(test_data)\n",
    "    else: \n",
    "        pred =neigh.predict(test_data)\n",
    "    return pred"
   ]
  },
  {
   "cell_type": "markdown",
   "metadata": {},
   "source": [
    "Let's use Kaggle-Data:"
   ]
  },
  {
   "cell_type": "code",
   "execution_count": 3,
   "metadata": {
    "collapsed": false
   },
   "outputs": [],
   "source": [
    "(header,\n",
    " b_data,\n",
    " b_weights,\n",
    " b_labels,\n",
    " train_data,\n",
    " train_weights,\n",
    " train_labels) = kD.getWholeDataSet(kSet=\"b\")"
   ]
  },
  {
   "cell_type": "code",
   "execution_count": 4,
   "metadata": {
    "collapsed": false
   },
   "outputs": [],
   "source": [
    "(v_data,\n",
    " v_weights,\n",
    " v_labels) = kD.getWholeDataSet(kSet=\"v\")[1:4]"
   ]
  },
  {
   "cell_type": "code",
   "execution_count": 5,
   "metadata": {
    "collapsed": true
   },
   "outputs": [],
   "source": [
    "test_data = np.vstack([v_data,b_data])\n",
    "test_weights = np.hstack([v_weights,b_weights])\n",
    "test_labels = np.hstack([v_labels,b_labels])"
   ]
  },
  {
   "cell_type": "code",
   "execution_count": 6,
   "metadata": {
    "collapsed": false
   },
   "outputs": [],
   "source": [
    "(b_eventList,\n",
    " v_eventList,\n",
    " train_eventList,\n",
    " test_eventList) = kD.getBVFeatureSets(\"EventId\",header,b_data,v_data,test_data,train_data)"
   ]
  },
  {
   "cell_type": "code",
   "execution_count": 7,
   "metadata": {
    "collapsed": false
   },
   "outputs": [],
   "source": [
    "train_labels = np.array(train_labels).transpose()"
   ]
  },
  {
   "cell_type": "markdown",
   "metadata": {},
   "source": [
    "features with good properties"
   ]
  },
  {
   "cell_type": "code",
   "execution_count": null,
   "metadata": {
    "collapsed": true
   },
   "outputs": [],
   "source": []
  },
  {
   "cell_type": "code",
   "execution_count": 8,
   "metadata": {
    "collapsed": true
   },
   "outputs": [],
   "source": [
    "def getBVDataSets(featList,header,b_data,v_data,test_data,train_data):\n",
    "    b_X = np.zeros((len(b_data),len(featList)))\n",
    "    v_X = np.zeros((len(v_data),len(featList)))\n",
    "    test_X = np.zeros((len(test_data),len(featList)))\n",
    "    train_X = np.zeros((len(train_data),len(featList)))\n",
    "    for i in range(0,len(featList)):\n",
    "        (b_X[:,i],\n",
    "         v_X[:,i],\n",
    "         train_X[:,i],\n",
    "         test_X[:,i]) = kD.getBVFeatureSets(featList[i],header,b_data,v_data,test_data,train_data)\n",
    "\n",
    "    return b_X,v_X,train_X,test_X"
   ]
  },
  {
   "cell_type": "code",
   "execution_count": 15,
   "metadata": {
    "collapsed": true
   },
   "outputs": [],
   "source": [
    "#all but events, pls\n",
    "train_X = train_data[:,1:]\n",
    "test_X = test_data[:,1:]\n",
    "b_X = b_data[:,1:]\n",
    "v_X = v_data[:,1:]"
   ]
  },
  {
   "cell_type": "code",
   "execution_count": null,
   "metadata": {
    "collapsed": true
   },
   "outputs": [],
   "source": []
  },
  {
   "cell_type": "code",
   "execution_count": 16,
   "metadata": {
    "collapsed": true
   },
   "outputs": [],
   "source": [
    "pred_b = kNN(train_X,train_labels,b_X,k=20)\n",
    "pred_v = kNN(train_X,train_labels,v_X,k=20)\n",
    "pred = kNN(train_X,train_labels,test_X,k=20)"
   ]
  },
  {
   "cell_type": "code",
   "execution_count": 17,
   "metadata": {
    "collapsed": true
   },
   "outputs": [],
   "source": [
    "true_pred_b = tb.customThreshold(pred_b[:,1],0.8)\n",
    "true_pred_v = tb.customThreshold(pred_v[:,1],0.8)"
   ]
  },
  {
   "cell_type": "code",
   "execution_count": 19,
   "metadata": {
    "collapsed": false
   },
   "outputs": [
    {
     "name": "stdout",
     "output_type": "stream",
     "text": [
      "public AMS: 2.7124556254914878\n",
      "private AMS: 2.750770249685567\n"
     ]
    }
   ],
   "source": [
    "s,b = tb.calcWeightSums(b_weights,true_pred_b,b_labels)\n",
    "print(\"public AMS:\",tb.calcAMS(s,b))\n",
    "s,b = tb.calcWeightSums(v_weights,true_pred_v,v_labels)\n",
    "print(\"private AMS:\",tb.calcAMS(s,b))"
   ]
  },
  {
   "cell_type": "code",
   "execution_count": 20,
   "metadata": {
    "collapsed": true
   },
   "outputs": [],
   "source": [
    "tb.createSolutionFile(test_eventList,pred[:,1],0.8,\"F:\\BA_git\\Data\\Solutions\\solution_kNN_all.csv\")"
   ]
  },
  {
   "cell_type": "code",
   "execution_count": null,
   "metadata": {
    "collapsed": true
   },
   "outputs": [],
   "source": []
  },
  {
   "cell_type": "code",
   "execution_count": null,
   "metadata": {
    "collapsed": true
   },
   "outputs": [],
   "source": []
  },
  {
   "cell_type": "code",
   "execution_count": 10,
   "metadata": {
    "collapsed": false
   },
   "outputs": [],
   "source": [
    "featList = [\"DER_mass_MMC\",\n",
    "            \"DER_mass_transverse_met_lep\",\n",
    "            \"DER_mass_vis\",\n",
    "            \"DER_met_phi_centrality\",\n",
    "            \"DER_pt_ratio_lep_tau\",\n",
    "            \"PRI_tau_pt\",\n",
    "            \"DER_pt_h\"]\n",
    "b_X,v_X,train_X,test_X = getBVDataSets(featList,header,b_data,v_data,test_data,train_data)"
   ]
  },
  {
   "cell_type": "code",
   "execution_count": null,
   "metadata": {
    "collapsed": false
   },
   "outputs": [],
   "source": [
    "#public score\n",
    "tb.calcMaxAMS(b_weights,b_labels);"
   ]
  },
  {
   "cell_type": "code",
   "execution_count": null,
   "metadata": {
    "collapsed": false
   },
   "outputs": [],
   "source": [
    "#private score\n",
    "tb.calcMaxAMS(v_weights,v_labels);"
   ]
  },
  {
   "cell_type": "code",
   "execution_count": null,
   "metadata": {
    "collapsed": false
   },
   "outputs": [],
   "source": [
    "neigh = neighbors.KNeighborsClassifier(n_neighbors=20,n_jobs=4)\n",
    "neigh.fit(train_X,train_labels)\n",
    "pred_b = neigh.predict(b_X)\n",
    "pred_v = neigh.predict(v_X)\n",
    "pred_test = neigh.predict(test_X)"
   ]
  },
  {
   "cell_type": "code",
   "execution_count": null,
   "metadata": {
    "collapsed": false
   },
   "outputs": [],
   "source": [
    "s,b = tb.calcWeightSums(b_weights,pred_b,b_labels)\n",
    "print(\"public AMS:\",tb.calcAMS(s,b))"
   ]
  },
  {
   "cell_type": "code",
   "execution_count": null,
   "metadata": {
    "collapsed": false
   },
   "outputs": [],
   "source": [
    "s,b = tb.calcWeightSums(v_weights,pred_v,v_labels)\n",
    "print(\"private AMS:\",tb.calcAMS(s,b))"
   ]
  },
  {
   "cell_type": "code",
   "execution_count": 9,
   "metadata": {
    "collapsed": true
   },
   "outputs": [],
   "source": [
    "def getBestN(n_range,train_X,test_X,test_weights,test_labels,train_labels):\n",
    "    maxAMS = 0\n",
    "    bestN = 0\n",
    "    neigh = neighbors.KNeighborsClassifier(weights='distance',n_jobs=4)\n",
    "    for n in n_range:\n",
    "        neigh.set_params(n_neighbors=n)\n",
    "        neigh.fit(train_X,train_labels)\n",
    "        predProb = neigh.predict_proba(test_X)\n",
    "        pred = tb.customThreshold(predProb[:,1],0.8)\n",
    "        s,b = tb.calcWeightSums(test_weights,pred,test_labels)\n",
    "        ams = tb.calcAMS(s,b)\n",
    "        print(\"n=\", n, \"| AMS:\",ams)\n",
    "        if ams > maxAMS:\n",
    "            maxAMS = ams\n",
    "            bestN = n\n",
    "    return maxAMS,bestN"
   ]
  },
  {
   "cell_type": "code",
   "execution_count": null,
   "metadata": {
    "collapsed": true
   },
   "outputs": [],
   "source": [
    "featList = ['DER_mass_MMC','DER_mass_transverse_met_lep','DER_mass_vis']\n",
    "(new_header,new_test_data,new_test_weights,new_test_labels) = kD.getCustomDataSet(featList,kSet = \"v\")\n",
    "(new_header,new_train_data,new_train_weights,new_train_labels) = kD.getCustomDataSet(featList,kSet = \"t\")"
   ]
  },
  {
   "cell_type": "code",
   "execution_count": null,
   "metadata": {
    "collapsed": false
   },
   "outputs": [],
   "source": [
    "maxAMS, bestN = getBestN([100,200],new_train_data,new_test_data,new_test_weights,new_test_labels,new_train_labels)\n",
    "print(\"Best AMS:\", maxAMS, \"with n =\", bestN)"
   ]
  },
  {
   "cell_type": "markdown",
   "metadata": {},
   "source": [
    "Private AMS = 2.310879936427514   => Rank 1389!"
   ]
  },
  {
   "cell_type": "code",
   "execution_count": 11,
   "metadata": {
    "collapsed": false
   },
   "outputs": [],
   "source": [
    "pred_b = kNN(train_X,train_labels,b_X,k=200)\n",
    "pred_v = kNN(train_X,train_labels,v_X,k=200)\n",
    "pred = kNN(train_X,train_labels,test_X,k=200)"
   ]
  },
  {
   "cell_type": "code",
   "execution_count": 12,
   "metadata": {
    "collapsed": false
   },
   "outputs": [],
   "source": [
    "true_pred_b = tb.customThreshold(pred_b[:,1],0.8)\n",
    "true_pred_v = tb.customThreshold(pred_v[:,1],0.8)"
   ]
  },
  {
   "cell_type": "code",
   "execution_count": 13,
   "metadata": {
    "collapsed": false
   },
   "outputs": [
    {
     "name": "stdout",
     "output_type": "stream",
     "text": [
      "public AMS: 3.1096896180800586\n",
      "private AMS: 3.1689810059694437\n"
     ]
    }
   ],
   "source": [
    "s1,b1 = tb.calcWeightSums(b_weights,true_pred_b,b_labels)\n",
    "print(\"public AMS:\",tb.calcAMS(s1,b1))\n",
    "s2,b2 = tb.calcWeightSums(v_weights,true_pred_v,v_labels)\n",
    "print(\"private AMS:\",tb.calcAMS(s2,b2))"
   ]
  },
  {
   "cell_type": "markdown",
   "metadata": {},
   "source": [
    "Optimized AMS ~3.168 with threshold 0.8 => rank 999"
   ]
  },
  {
   "cell_type": "code",
   "execution_count": null,
   "metadata": {
    "collapsed": false
   },
   "outputs": [],
   "source": [
    "featList = [\"DER_mass_MMC\",\n",
    "            \"DER_mass_transverse_met_lep\",\n",
    "            \"DER_mass_vis\",\n",
    "            \"DER_met_phi_centrality\",\n",
    "            \"DER_pt_ratio_lep_tau\",\n",
    "            \"PRI_tau_pt\",\n",
    "            \"DER_pt_h\"]\n",
    "b_X,v_X,train_X,test_X = getBVDataSets(featList,header,b_data,v_data,test_data,train_data)"
   ]
  },
  {
   "cell_type": "code",
   "execution_count": null,
   "metadata": {
    "collapsed": false
   },
   "outputs": [],
   "source": [
    "norm_train_X = np.copy(train_X)\n",
    "norm_b_X = np.copy(b_X)\n",
    "norm_v_X = np.copy(v_X)\n",
    "norm_test_X = np.copy(test_X)\n",
    "\n",
    "for i in range(0,len(featList)):\n",
    "    norm_train_X[:,i] /= np.mean(np.abs(train_X[:,i]),axis=0)\n",
    "    norm_b_X[:,i] /= np.mean(np.abs(b_X[:,i]),axis=0)\n",
    "    norm_v_X[:,i] /= np.mean(np.abs(v_X[:,i]),axis=0)\n",
    "    norm_test_X[:,i] /= np.mean(np.abs(test_X[:,i]),axis=0)"
   ]
  },
  {
   "cell_type": "code",
   "execution_count": null,
   "metadata": {
    "collapsed": false
   },
   "outputs": [],
   "source": [
    "pred_b = kNN(norm_train_X,train_labels,norm_b_X,k=200)\n",
    "pred_v = kNN(norm_train_X,train_labels,norm_v_X,k=200)\n",
    "pred = kNN(norm_train_X,train_labels,norm_test_X,k=200)"
   ]
  },
  {
   "cell_type": "code",
   "execution_count": null,
   "metadata": {
    "collapsed": true
   },
   "outputs": [],
   "source": [
    "true_pred_b = tb.customThreshold(pred_b[:,1],0.8)\n",
    "true_pred_v = tb.customThreshold(pred_v[:,1],0.8)"
   ]
  },
  {
   "cell_type": "code",
   "execution_count": null,
   "metadata": {
    "collapsed": false
   },
   "outputs": [],
   "source": [
    "s1,b1 = tb.calcWeightSums(b_weights,true_pred_b,b_labels)\n",
    "print(\"public AMS:\",tb.calcAMS(s1,b1))\n",
    "s2,b2 = tb.calcWeightSums(v_weights,true_pred_v,v_labels)\n",
    "print(\"private AMS:\",tb.calcAMS(s2,b2))"
   ]
  },
  {
   "cell_type": "code",
   "execution_count": null,
   "metadata": {
    "collapsed": false
   },
   "outputs": [],
   "source": [
    "maxAMS, bestN = getBestN(np.arange(1,100),norm_train_X,norm_v_X,v_weights,v_labels,train_labels)\n",
    "print(\"Best AMS:\", maxAMS, \"with n =\", bestN)"
   ]
  },
  {
   "cell_type": "code",
   "execution_count": null,
   "metadata": {
    "collapsed": false
   },
   "outputs": [],
   "source": [
    "np.mean(np.abs(train_X[:,1]),axis=0)"
   ]
  },
  {
   "cell_type": "code",
   "execution_count": null,
   "metadata": {
    "collapsed": true
   },
   "outputs": [],
   "source": [
    "errorList = ['DER_deltaeta_jet_jet',\n",
    "             'DER_mass_jet_jet',\n",
    "             'DER_prodeta_jet_jet',\n",
    "             'DER_lep_eta_centrality',\n",
    "             'PRI_jet_leading_pt',\n",
    "             'PRI_jet_leading_eta',\n",
    "             'PRI_jet_leading_phi',\n",
    "             'PRI_jet_subleading_pt',\n",
    "             'PRI_jet_subleading_eta',\n",
    "             'PRI_jet_subleading_phi']"
   ]
  }
 ],
 "metadata": {
  "kernelspec": {
   "display_name": "Python 3",
   "language": "python",
   "name": "python3"
  },
  "language_info": {
   "codemirror_mode": {
    "name": "ipython",
    "version": 3
   },
   "file_extension": ".py",
   "mimetype": "text/x-python",
   "name": "python",
   "nbconvert_exporter": "python",
   "pygments_lexer": "ipython3",
   "version": "3.4.3"
  }
 },
 "nbformat": 4,
 "nbformat_minor": 0
}
