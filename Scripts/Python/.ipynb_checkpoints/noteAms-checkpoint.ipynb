{
 "cells": [
  {
   "cell_type": "raw",
   "metadata": {},
   "source": [
    "%Date: 04.01.2016"
   ]
  },
  {
   "cell_type": "code",
   "execution_count": null,
   "metadata": {
    "collapsed": true
   },
   "outputs": [],
   "source": [
    "\n",
    "import numpy as np\n",
    "import matplotlib.pyplot as plt\n",
    "import math"
   ]
  },
  {
   "cell_type": "markdown",
   "metadata": {},
   "source": [
    "Approximate Median Significance (AMS) defined as: $AMS = \\sqrt{2 { (s + b + b_r) log[1 + (s/(b+b_{reg}))] - s}}$    \n",
    "        \n",
    "where \n",
    "\n",
    "- $b_{reg} = 10$ is a regulization term (set by the contest),\n",
    "- $b = \\sum_{i=1}^{n} w_i, y_i=0$ is sum of weighted background (incorrectly classified as signal),\n",
    "- $s = \\sum_{i=1}^{n} w_i, y_i=1$ is sum of weighted signals (correctly classified as signal),\n",
    "- $log$ is natural logarithm"
   ]
  },
  {
   "cell_type": "code",
   "execution_count": null,
   "metadata": {
    "collapsed": true
   },
   "outputs": [],
   "source": [
    "\n",
    "def calcAMS(s,b):    \n",
    "    br = 10.0\n",
    "    radicand = 2 *( (s+b+br) * math.log (1.0 + s/(b+br)) -s)\n",
    "    if radicand < 0:\n",
    "        print('radicand is negative. Exiting')\n",
    "        exit()\n",
    "    else:\n",
    "        ams = math.sqrt(radicand)\n",
    "        print(\"AMS:\", ams)\n",
    "        return ams"
   ]
  },
  {
   "cell_type": "markdown",
   "metadata": {},
   "source": [
    "Following this definition, we can derive a maximum AMS by simply summing the weights of all positive labels."
   ]
  },
  {
   "cell_type": "code",
   "execution_count": null,
   "metadata": {
    "collapsed": true
   },
   "outputs": [],
   "source": [
    "\n",
    "def calcWeightSums(weights,preds,labels):\n",
    "    s = 0\n",
    "    b = 0\n",
    "    for j in list(range(0,len(preds))):\n",
    "        pred = preds[j]\n",
    "        label = labels[j]\n",
    "        weight = weights[j]\n",
    "        if pred > 0.:\n",
    "            if label > 0.:\n",
    "                s += weight\n",
    "            else:\n",
    "                b += weight\n",
    "    return s,b"
   ]
  },
  {
   "cell_type": "code",
   "execution_count": null,
   "metadata": {
    "collapsed": true
   },
   "outputs": [],
   "source": [
    "\n",
    "def calcMaxAMS(weights,labels):\n",
    "    s,b = calcWeightSums(weights,labels,labels)\n",
    "    ams = calcAMS(s,b)\n",
    "    print(\"Found\", int(labels.cumsum()[-1]), \"signals.\")\n",
    "    print(\"Weightsums signal:\", s, \"| background:\", b)\n",
    "    print(\"Maximum AMS possible with this Data:\", ams)\n",
    "    return ams"
   ]
  },
  {
   "cell_type": "markdown",
   "metadata": {},
   "source": [
    "We generate AMS with good seperable toy-data, starting with the maximum AMS. \n",
    "The data of the actual challenge is weighted to punish wrong-identified signals significantly harder than wrong background. Our toy-data will do so by using its signal-probability as weight, the features are randomized by normal distributions.\n"
   ]
  },
  {
   "cell_type": "code",
   "execution_count": null,
   "metadata": {
    "collapsed": true
   },
   "outputs": [],
   "source": [
    "\n",
    "def generateFeature(label, mu_s, mu_b, sigma_s=5, sigma_b=5):\n",
    "    if label is 1:\n",
    "        mu = mu_s\n",
    "        sigma = sigma_s\n",
    "    else:\n",
    "        mu = mu_b\n",
    "        sigma = sigma_b\n",
    "    return np.random.normal(mu,sigma)"
   ]
  },
  {
   "cell_type": "code",
   "execution_count": null,
   "metadata": {
    "collapsed": false
   },
   "outputs": [],
   "source": [
    "\n",
    "def createToyData(n = 100,dim = 3,s_prob = 0.05):\n",
    "    data= np.zeros(shape = (n,dim),dtype=float)\n",
    "    if dim < 3:\n",
    "        print(\"Operation canceled.\",\n",
    "              \"Data should have at least one\",\n",
    "              \"additional dimension besides weights and labels.\",\n",
    "              \"(dim >=3)\")\n",
    "        return None\n",
    "    data[:,0] = np.random.rand(n) #weights\n",
    "    for i in range(0,n):\n",
    "        if data[i,0] <= s_prob: # label-determination\n",
    "            label = 1\n",
    "        else:\n",
    "            label = 0\n",
    "        data[i,1] = label\n",
    "        for j in range(2,dim):\n",
    "            #mu_s=j*5\n",
    "            #mu_b=j*20\n",
    "            data[i,j]=generateFeature(label,mu_s=(j-1)*5,mu_b=(j-1)*20)\n",
    "    return data"
   ]
  },
  {
   "cell_type": "code",
   "execution_count": null,
   "metadata": {
    "collapsed": false
   },
   "outputs": [],
   "source": [
    "\n",
    "n = 100000\n",
    "prob = 0.05\n",
    "data = createToyData(n,dim=10,s_prob=prob)"
   ]
  },
  {
   "cell_type": "code",
   "execution_count": null,
   "metadata": {
    "collapsed": false
   },
   "outputs": [],
   "source": [
    "\n",
    "weights = data[:,0]\n",
    "labels = data[:,1]\n",
    "calcMaxAMS(weights,labels);"
   ]
  },
  {
   "cell_type": "markdown",
   "metadata": {},
   "source": [
    "We randomly guess labels for a solution for a second AMS with knowledge about the toydatas signal-probability."
   ]
  },
  {
   "cell_type": "code",
   "execution_count": null,
   "metadata": {
    "collapsed": true
   },
   "outputs": [],
   "source": [
    "\n",
    "sol_weights = np.random.rand(n)\n",
    "sol = np.zeros(n)\n",
    "for i in range(0,n):\n",
    "    if sol_weights[i] <= prob: # label-determination\n",
    "        sol[i] = 1\n",
    "    else:\n",
    "        sol[i] = 0"
   ]
  },
  {
   "cell_type": "code",
   "execution_count": null,
   "metadata": {
    "collapsed": false
   },
   "outputs": [],
   "source": [
    "\n",
    "s,b = calcWeightSums(weights,sol,labels)\n",
    "calcAMS(s,b);"
   ]
  }
 ],
 "metadata": {
  "kernelspec": {
   "display_name": "Python 3",
   "language": "python",
   "name": "python3"
  },
  "language_info": {
   "codemirror_mode": {
    "name": "ipython",
    "version": 3
   },
   "file_extension": ".py",
   "mimetype": "text/x-python",
   "name": "python",
   "nbconvert_exporter": "python",
   "pygments_lexer": "ipython3",
   "version": "3.4.3"
  }
 },
 "nbformat": 4,
 "nbformat_minor": 0
}
