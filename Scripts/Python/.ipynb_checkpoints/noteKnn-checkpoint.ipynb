{
 "cells": [
  {
   "cell_type": "code",
   "execution_count": 4,
   "metadata": {
    "collapsed": false
   },
   "outputs": [],
   "source": [
    "import numpy as np\n",
    "import matplotlib.pyplot as plt\n",
    "from matplotlib.colors import ListedColormap\n",
    "from sklearn import neighbors, datasets\n",
    "import toolbox as tb\n",
    "import kaggleData as kD"
   ]
  },
  {
   "cell_type": "code",
   "execution_count": null,
   "metadata": {
    "collapsed": false
   },
   "outputs": [],
   "source": [
    "#toydata shall have n vectors with 5 dimensions\n",
    "n = 100000\n",
    "#probability for signal-label\n",
    "s_prob = 0.05\n",
    "dim = 4\n",
    "data = tb.createToyData(n,dim,s_prob)\n",
    "weights = data[:,0]\n",
    "labels = data[:,1]\n",
    "x_1 = data[:,2]\n",
    "x_2 = data[:,3]\n",
    "\n",
    "%pylab inline\n",
    "plt.scatter(x_1, x_2, edgecolor=\"\", c=labels, alpha=0.5)"
   ]
  },
  {
   "cell_type": "markdown",
   "metadata": {},
   "source": [
    "For Comparison, we calculate the best possible AMS    \n",
    "(case: every signal correctly detected)"
   ]
  },
  {
   "cell_type": "code",
   "execution_count": null,
   "metadata": {
    "collapsed": false
   },
   "outputs": [],
   "source": [
    "tb.calcMaxAMS(test_weights,test_labels);"
   ]
  },
  {
   "cell_type": "markdown",
   "metadata": {},
   "source": [
    "prepare (=normalize) data"
   ]
  },
  {
   "cell_type": "code",
   "execution_count": null,
   "metadata": {
    "collapsed": false,
    "scrolled": true
   },
   "outputs": [],
   "source": [
    "X=data[:,2:4]\n",
    "X /= np.max(np.abs(X),axis=0)\n",
    "X"
   ]
  },
  {
   "cell_type": "code",
   "execution_count": null,
   "metadata": {
    "collapsed": true
   },
   "outputs": [],
   "source": [
    "n_train = int(n/10)\n",
    "\n",
    "train_X,test_X = tb.splitList(X,n_train)\n",
    "train_labels,test_labels = tb.splitList(labels,n_train)\n",
    "test_weights = tb.splitList(weights,n_train)[1]"
   ]
  },
  {
   "cell_type": "code",
   "execution_count": null,
   "metadata": {
    "collapsed": false
   },
   "outputs": [],
   "source": [
    "tb.calcMaxAMS(test_weights,test_labels);"
   ]
  },
  {
   "cell_type": "markdown",
   "metadata": {},
   "source": [
    "classify with knN"
   ]
  },
  {
   "cell_type": "code",
   "execution_count": null,
   "metadata": {
    "collapsed": false
   },
   "outputs": [],
   "source": [
    "neigh = neighbors.KNeighborsClassifier(n_neighbors=5)\n",
    "neigh.fit(train_X,train_labels)"
   ]
  },
  {
   "cell_type": "code",
   "execution_count": null,
   "metadata": {
    "collapsed": false
   },
   "outputs": [],
   "source": [
    "test_X[:,1]"
   ]
  },
  {
   "cell_type": "code",
   "execution_count": null,
   "metadata": {
    "collapsed": false
   },
   "outputs": [],
   "source": [
    "pred = neigh.predict(test_X)"
   ]
  },
  {
   "cell_type": "code",
   "execution_count": null,
   "metadata": {
    "collapsed": false
   },
   "outputs": [],
   "source": [
    "%pylab inline\n",
    "plt.scatter(test_X[:,0], test_X[:,1], edgecolor=\"\", c=pred, alpha=0.5)"
   ]
  },
  {
   "cell_type": "code",
   "execution_count": null,
   "metadata": {
    "collapsed": false
   },
   "outputs": [],
   "source": [
    "s,b = tb.calcWeightSums(test_weights,pred,test_labels)\n",
    "print(\"AMS:\",tb.calcAMS(s,b))"
   ]
  },
  {
   "cell_type": "markdown",
   "metadata": {},
   "source": [
    "Let's use Kaggle-Data:"
   ]
  },
  {
   "cell_type": "code",
   "execution_count": null,
   "metadata": {
    "collapsed": true
   },
   "outputs": [],
   "source": [
    "#csvDict,header = kD.createCsvDictionary();"
   ]
  },
  {
   "cell_type": "code",
   "execution_count": 5,
   "metadata": {
    "collapsed": false
   },
   "outputs": [],
   "source": [
    "(header,\n",
    " test_data,\n",
    " test_weights,\n",
    " test_labels,\n",
    " train_data,\n",
    " train_weights,\n",
    " train_labels) = kD.getWholeDataSet(kSet=\"v\")"
   ]
  },
  {
   "cell_type": "code",
   "execution_count": 8,
   "metadata": {
    "collapsed": true
   },
   "outputs": [],
   "source": [
    "def getFeatureSets(featureName,test_data,train_data):\n",
    "    index = header.index(featureName)\n",
    "    trainFeature = train_data[:,index]\n",
    "    testFeature = test_data[:,index]\n",
    "    return trainFeature, testFeature"
   ]
  },
  {
   "cell_type": "code",
   "execution_count": 10,
   "metadata": {
    "collapsed": false
   },
   "outputs": [],
   "source": [
    "train_eventList,test_eventList = getFeatureSets(\"EventId\",test_data,train_data)"
   ]
  },
  {
   "cell_type": "code",
   "execution_count": 11,
   "metadata": {
    "collapsed": true
   },
   "outputs": [],
   "source": [
    "(train_DER_met_phi_centrality,\n",
    " test_DER_met_phi_centrality) = getFeatureSets(\"DER_met_phi_centrality\",test_data,train_data)\n",
    "(train_DER_pt_ratio_lep_tau,\n",
    " test_DER_pt_ratio_lep_tau) = getFeatureSets(\"DER_pt_ratio_lep_tau\",test_data,train_data)"
   ]
  },
  {
   "cell_type": "code",
   "execution_count": 12,
   "metadata": {
    "collapsed": true
   },
   "outputs": [],
   "source": [
    "train_labels = np.array(train_labels).transpose()\n",
    "test_labels = np.array(test_labels).transpose()"
   ]
  },
  {
   "cell_type": "code",
   "execution_count": 13,
   "metadata": {
    "collapsed": false
   },
   "outputs": [
    {
     "name": "stdout",
     "output_type": "stream",
     "text": [
      "Found 153683 signals.\n",
      "Weightsums signal: 691.988607714 | background: 0\n",
      "Maximum AMS possible with this Data: 67.71112289514129\n"
     ]
    }
   ],
   "source": [
    "tb.calcMaxAMS(test_weights,test_labels);"
   ]
  },
  {
   "cell_type": "code",
   "execution_count": 14,
   "metadata": {
    "collapsed": false
   },
   "outputs": [],
   "source": [
    "train_X_1 = train_DER_met_phi_centrality\n",
    "train_X_2 = train_DER_pt_ratio_lep_tau\n",
    "#train_X_1 /= np.max(np.abs(train_X_1),axis=0)\n",
    "#train_X_2 /= np.max(np.abs(train_X_2),axis=0)\n",
    "\n",
    "train_X = np.zeros(shape = (len(train_X_1),2),dtype=float)\n",
    "train_X[:,0] = train_X_1[:]\n",
    "train_X[:,1] = train_X_2[:]"
   ]
  },
  {
   "cell_type": "code",
   "execution_count": 15,
   "metadata": {
    "collapsed": false
   },
   "outputs": [],
   "source": [
    "test_X_1 = test_DER_met_phi_centrality\n",
    "test_X_2 = test_DER_pt_ratio_lep_tau\n",
    "#test_X_1 /= np.max(np.abs(test_X_1),axis=0)\n",
    "#test_X_2 /= np.max(np.abs(test_X_2),axis=0)\n",
    "\n",
    "test_X = np.zeros(shape = (len(test_X_1),2),dtype=float)\n",
    "test_X[:,0] = test_X_1[:]\n",
    "test_X[:,1] = test_X_2[:]"
   ]
  },
  {
   "cell_type": "code",
   "execution_count": 16,
   "metadata": {
    "collapsed": true
   },
   "outputs": [],
   "source": [
    "neigh = neighbors.KNeighborsClassifier(n_neighbors=4)\n",
    "neigh.fit(train_X,train_labels)\n",
    "pred = neigh.predict(test_X)"
   ]
  },
  {
   "cell_type": "code",
   "execution_count": 17,
   "metadata": {
    "collapsed": false
   },
   "outputs": [
    {
     "name": "stdout",
     "output_type": "stream",
     "text": [
      "AMS: 0.9682241714127207\n"
     ]
    }
   ],
   "source": [
    "s,b = tb.calcWeightSums(test_weights,pred,test_labels)\n",
    "print(\"AMS:\",tb.calcAMS(s,b))"
   ]
  },
  {
   "cell_type": "code",
   "execution_count": 18,
   "metadata": {
    "collapsed": true
   },
   "outputs": [],
   "source": [
    "def bestN(n_range,train_X,test_X,test_weights,test_labels):\n",
    "    for n in n_range:\n",
    "        neigh = neighbors.KNeighborsClassifier(n_neighbors=n)\n",
    "        neigh.fit(train_X,train_labels)\n",
    "        pred = neigh.predict(test_X)\n",
    "        s,b = tb.calcWeightSums(test_weights,pred,test_labels)\n",
    "        print(\"n=\", n, \"| AMS:\",tb.calcAMS(s,b))"
   ]
  },
  {
   "cell_type": "code",
   "execution_count": 19,
   "metadata": {
    "collapsed": false
   },
   "outputs": [
    {
     "name": "stdout",
     "output_type": "stream",
     "text": [
      "AMS: 1.4386354185883101\n"
     ]
    }
   ],
   "source": [
    "neigh = neighbors.KNeighborsClassifier(n_neighbors=200)\n",
    "neigh.fit(train_X,train_labels)\n",
    "pred = neigh.predict(test_X)\n",
    "s,b = tb.calcWeightSums(test_weights,pred,test_labels)\n",
    "print(\"AMS:\",tb.calcAMS(s,b))"
   ]
  },
  {
   "cell_type": "code",
   "execution_count": null,
   "metadata": {
    "collapsed": true
   },
   "outputs": [],
   "source": []
  }
 ],
 "metadata": {
  "kernelspec": {
   "display_name": "Python 3",
   "language": "python",
   "name": "python3"
  },
  "language_info": {
   "codemirror_mode": {
    "name": "ipython",
    "version": 3
   },
   "file_extension": ".py",
   "mimetype": "text/x-python",
   "name": "python",
   "nbconvert_exporter": "python",
   "pygments_lexer": "ipython3",
   "version": "3.4.3"
  }
 },
 "nbformat": 4,
 "nbformat_minor": 0
}
