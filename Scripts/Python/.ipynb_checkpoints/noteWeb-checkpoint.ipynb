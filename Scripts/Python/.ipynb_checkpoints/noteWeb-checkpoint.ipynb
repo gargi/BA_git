{
 "cells": [
  {
   "cell_type": "code",
   "execution_count": null,
   "metadata": {
    "collapsed": true
   },
   "outputs": [],
   "source": [
    "import urllib.request\n",
    "from lxml import html\n",
    "import numpy as np\n",
    "\n",
    "url = \"https://www.kaggle.com/c/higgs-boson/leaderboard/public\"\n",
    "page = html.fromstring(urllib.request.urlopen(url).read())\n",
    "\n",
    "for node in page.xpath(\"//a [@name]\"):\n",
    "    print (node.values())"
   ]
  },
  {
   "cell_type": "code",
   "execution_count": null,
   "metadata": {
    "collapsed": false
   },
   "outputs": [],
   "source": [
    "def getLeaderBoard(url):\n",
    "    page = html.fromstring(urllib.request.urlopen(url).read())\n",
    "    \n",
    "    ids = []\n",
    "    for userid in page.xpath(\"//tr[@id]\"):\n",
    "        ids.append(userid.values()[0].split(\"-\")[1])\n",
    "    scores = []\n",
    "    for score in page.xpath(\"//a [@name]\"):\n",
    "        scores.append(score.values()[0])\n",
    "    ids = np.asarray(ids).astype(float)\n",
    "    scores = np.asarray(scores).astype(float)\n",
    "    leaderBoard = np.empty([len(scores),2],dtype=float)\n",
    "    \n",
    "    leaderBoard[:,0] = ids[:]\n",
    "    leaderBoard[:,1] = scores[:]\n",
    "    \n",
    "    return leaderBoard"
   ]
  },
  {
   "cell_type": "code",
   "execution_count": null,
   "metadata": {
    "collapsed": true
   },
   "outputs": [],
   "source": [
    "pub_url = \"https://www.kaggle.com/c/higgs-boson/leaderboard/public\"\n",
    "priv_url = \"https://www.kaggle.com/c/higgs-boson/leaderboard/private\"\n",
    "pub_lB = getLeaderBoard(pub_url)\n",
    "priv_lB = getLeaderBoard(priv_url)"
   ]
  },
  {
   "cell_type": "code",
   "execution_count": null,
   "metadata": {
    "collapsed": true
   },
   "outputs": [],
   "source": [
    "public_ids = []\n",
    "for userid in page.xpath(\"//tr[@id]\"):\n",
    "    public_ids.append(userid.values()[0].split(\"-\")[1])\n",
    "public_scores = []\n",
    "for score in page.xpath(\"//a [@name]\"):\n",
    "    public_scores.append(score.values()[0])"
   ]
  },
  {
   "cell_type": "code",
   "execution_count": null,
   "metadata": {
    "collapsed": true
   },
   "outputs": [],
   "source": [
    "url = \"https://www.kaggle.com/c/higgs-boson/leaderboard/private\"\n",
    "page = html.fromstring(urllib.request.urlopen(url).read())\n",
    "\n",
    "for node in page.xpath(\"//tr[@id]\"):\n",
    "    print(node.get(\"id\"))"
   ]
  },
  {
   "cell_type": "code",
   "execution_count": null,
   "metadata": {
    "collapsed": true
   },
   "outputs": [],
   "source": [
    "for node in page.xpath(\"//a [@name]\"):\n",
    "    print (node.values())"
   ]
  },
  {
   "cell_type": "code",
   "execution_count": null,
   "metadata": {
    "collapsed": false
   },
   "outputs": [],
   "source": []
  }
 ],
 "metadata": {
  "kernelspec": {
   "display_name": "Python 3",
   "language": "python",
   "name": "python3"
  },
  "language_info": {
   "codemirror_mode": {
    "name": "ipython",
    "version": 3
   },
   "file_extension": ".py",
   "mimetype": "text/x-python",
   "name": "python",
   "nbconvert_exporter": "python",
   "pygments_lexer": "ipython3",
   "version": "3.4.3"
  }
 },
 "nbformat": 4,
 "nbformat_minor": 0
}
