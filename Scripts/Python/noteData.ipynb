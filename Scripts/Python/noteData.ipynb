{
 "cells": [
  {
   "cell_type": "code",
   "execution_count": 1,
   "metadata": {
    "collapsed": false
   },
   "outputs": [
    {
     "ename": "SyntaxError",
     "evalue": "invalid syntax (<ipython-input-1-b528c442319b>, line 1)",
     "output_type": "error",
     "traceback": [
      "\u001b[1;36m  File \u001b[1;32m\"<ipython-input-1-b528c442319b>\"\u001b[1;36m, line \u001b[1;32m1\u001b[0m\n\u001b[1;33m    All data provided by the challenge- and the opencern-dataset was \\cite{higgsPaper}\u001b[0m\n\u001b[1;37m           ^\u001b[0m\n\u001b[1;31mSyntaxError\u001b[0m\u001b[1;31m:\u001b[0m invalid syntax\n"
     ]
    }
   ],
   "source": [
    "All data provided by the challenge- and the opencern-dataset was \\cite{higgsPaper}"
   ]
  },
  {
   "cell_type": "markdown",
   "metadata": {},
   "source": [
    "The features Weight and Label were originally only provided in the training-dataset. The data used in this thesis is expanded by complete Weight-, Labels-features and the Kaggle-specific features KaggleSet and KaggleWeight.\n",
    "\n",
    "All features of the dataset are described in Appendix A."
   ]
  },
  {
   "cell_type": "code",
   "execution_count": null,
   "metadata": {
    "collapsed": true
   },
   "outputs": [],
   "source": []
  },
  {
   "cell_type": "markdown",
   "metadata": {},
   "source": [
    "reducing features by using their relationship with PRI_jet_num"
   ]
  },
  {
   "cell_type": "code",
   "execution_count": 33,
   "metadata": {
    "collapsed": false
   },
   "outputs": [],
   "source": [
    "import kaggleData as kD\n",
    "import numpy as np\n",
    "import matplotlib.pyplot as plt\n",
    "import matplotlib.patches as mpatches\n",
    "import matplotlib\n",
    "import os"
   ]
  },
  {
   "cell_type": "code",
   "execution_count": 3,
   "metadata": {
    "collapsed": false
   },
   "outputs": [],
   "source": [
    "scriptFolderPath = os.path.dirname(os.getcwd())\n",
    "mainFolderPath = os.path.dirname(scriptFolderPath)\n",
    "plotPath = (mainFolderPath + \"/Plots\")\n",
    "scatterPath = (plotPath + \"/Scatter\") \n",
    "histPath = (plotPath + \"/Hist\") "
   ]
  },
  {
   "cell_type": "code",
   "execution_count": 4,
   "metadata": {
    "collapsed": false
   },
   "outputs": [],
   "source": [
    "(header,\n",
    " test_data,\n",
    " test_weights,\n",
    " test_labels,\n",
    " train_data,\n",
    " train_weights,\n",
    " train_labels) = kD.getWholeDataSet(kSet=\"v\")"
   ]
  },
  {
   "cell_type": "code",
   "execution_count": 30,
   "metadata": {
    "collapsed": false
   },
   "outputs": [],
   "source": [
    "def countErrorsByJets(header,data):\n",
    "    index_PRI_jet_num = np.int(header.index(\"PRI_jet_num\"))\n",
    "    ######### 0 1 2 3 #########\n",
    "    totals = np.zeros((4),dtype=np.int)\n",
    "    errors = np.zeros((4,len(header)),dtype=np.int)\n",
    "    for i in range(0,len(data[:,index_PRI_jet_num])):\n",
    "        jets = np.int(data[i,index_PRI_jet_num])\n",
    "        totals[jets] += 1\n",
    "        for feat in header:\n",
    "            index_feat = np.int(header.index(feat))\n",
    "            if data[i,index_feat] == -999:\n",
    "                errors[jets,index_feat] +=1\n",
    "    return totals,errors"
   ]
  },
  {
   "cell_type": "code",
   "execution_count": 29,
   "metadata": {
    "collapsed": false,
    "scrolled": true
   },
   "outputs": [],
   "source": [
    "def plot_PJN_Errors(header,data):\n",
    "    totals,errors = countErrorsByJets(header,data)\n",
    "\n",
    "    font = {'weight' : 'bold',\n",
    "            'size'   : 10}\n",
    "\n",
    "\n",
    "    #fig = plt.figure(figsize=(15,10))\n",
    "    \n",
    "    b = 0\n",
    "    colors = ['green','red','blue','grey']\n",
    "    plot = [0,0,0,0]\n",
    "    for i in [0,1,2,3]:\n",
    "        plot[i] = plt.bar(left = np.arange(31), height = errors[i,:],\n",
    "               bottom = b, color=colors[i], alpha=0.5)\n",
    "        b += errors[i,:]\n",
    "        \n",
    "    #yticks = np.linspace(0,totals.cumsum()[-1])\n",
    "    plt.yticks(np.unique(b))\n",
    "    #plt.xticks(np.arange(31))\n",
    "    \n",
    "    plt.ylabel('Error-Values')\n",
    "    plt.xlabel('Features')\n",
    "    plt.title('Error-Values in features related to PRI_jet_num (Pjn)')\n",
    "\n",
    "    plt.xticks(np.arange(31), header, rotation=90)\n",
    "    matplotlib.rc('font', **font)\n",
    "    plt.legend((plot[0][0],plot[1][0],plot[2][0],plot[3][0]), ('Pjn = 0', 'Pjn = 1','Pjn = 2','Pjn = 3',))\n",
    "    return plt"
   ]
  },
  {
   "cell_type": "code",
   "execution_count": 38,
   "metadata": {
    "collapsed": false
   },
   "outputs": [],
   "source": [
    "#%pylab inline\n",
    "mainFig = plt.figure(figsize = (15,20))\n",
    "mainFig.add_subplot(111)\n",
    "ax = plot_PJN_Errors(header,test_data);\n",
    "mainFig.savefig(plotPath + \"/PJN_Errors\")\n",
    "plt.close(\"all\")"
   ]
  },
  {
   "cell_type": "markdown",
   "metadata": {},
   "source": [
    "We extract all featurenames which contain errors"
   ]
  },
  {
   "cell_type": "code",
   "execution_count": 31,
   "metadata": {
    "collapsed": false
   },
   "outputs": [],
   "source": [
    "totals,errors = countErrorsByJets(header,test_data)\n",
    "errorFeatures = []\n",
    "for i in range(0,31):\n",
    "    if errors[0,i] != 0:\n",
    "        errorFeatures.append(header[i])        "
   ]
  },
  {
   "cell_type": "markdown",
   "metadata": {},
   "source": [
    "We still want DER_mass_MMC, it is a valuable feature, as other tests had shown"
   ]
  },
  {
   "cell_type": "code",
   "execution_count": 32,
   "metadata": {
    "collapsed": false
   },
   "outputs": [],
   "source": [
    "errorFeatures.remove('DER_mass_MMC')"
   ]
  },
  {
   "cell_type": "code",
   "execution_count": 33,
   "metadata": {
    "collapsed": false,
    "scrolled": true
   },
   "outputs": [
    {
     "data": {
      "text/plain": [
       "['DER_deltaeta_jet_jet',\n",
       " 'DER_mass_jet_jet',\n",
       " 'DER_prodeta_jet_jet',\n",
       " 'DER_lep_eta_centrality',\n",
       " 'PRI_jet_leading_pt',\n",
       " 'PRI_jet_leading_eta',\n",
       " 'PRI_jet_leading_phi',\n",
       " 'PRI_jet_subleading_pt',\n",
       " 'PRI_jet_subleading_eta',\n",
       " 'PRI_jet_subleading_phi']"
      ]
     },
     "execution_count": 33,
     "metadata": {},
     "output_type": "execute_result"
    }
   ],
   "source": [
    "errorFeatures"
   ]
  },
  {
   "cell_type": "code",
   "execution_count": 27,
   "metadata": {
    "collapsed": true
   },
   "outputs": [],
   "source": [
    "def scaleAxis(data,cutPercent):\n",
    "    sData = sorted(data)\n",
    "    l = len(sData)\n",
    "    cutPoint = int(cutPercent*l/100)\n",
    "    axisMax = sData[l - cutPoint]\n",
    "    axisMin = sData[cutPoint]\n",
    "    if axisMin == -999.0:\n",
    "        for x in sData:\n",
    "            if x > axisMin:\n",
    "                axisMin = x\n",
    "                break\n",
    "    return axisMin,axisMax"
   ]
  },
  {
   "cell_type": "code",
   "execution_count": 28,
   "metadata": {
    "collapsed": true
   },
   "outputs": [],
   "source": [
    "def generateLabelsColors(labels):\n",
    "    colors = []\n",
    "    for i in range(0,len(labels)):\n",
    "        label = labels[i]\n",
    "        if label == 1:\n",
    "            labelColor = \"b\" ##signal = blue\n",
    "        elif label == 0:\n",
    "            labelColor = \"r\" ##background = red\n",
    "        else:\n",
    "            print(\"ERROR in Labels!\")\n",
    "        colors.append(labelColor)\n",
    "    return colors"
   ]
  },
  {
   "cell_type": "code",
   "execution_count": 16,
   "metadata": {
    "collapsed": false
   },
   "outputs": [],
   "source": [
    "def scattered(xName,yName,xData,yData,labels, alph=0.2):\n",
    "    colors = generateLabelsColors(labels)\n",
    "\n",
    "    scale = 0.5\n",
    "    xmin,xmax = scaleAxis(xData,scale)\n",
    "    ymin,ymax = scaleAxis(yData,scale)\n",
    "    \n",
    "    scat = plt.scatter(xData, yData, s=1, edgecolor=\"\", c=colors, alpha=alph)   \n",
    "    \n",
    "    plt.xlabel(xName)\n",
    "    plt.ylabel(yName)\n",
    "    \n",
    "    plt.axis([xmin,xmax,ymin,ymax])\n",
    "    \n",
    "    title = (\"Scatterplot: \"+ xName+ \" to \"+ yName)\n",
    "    \n",
    "    blue_patch = mpatches.Patch(color='blue', label='signal')\n",
    "    red_patch = mpatches.Patch(color='red', label='background')\n",
    "    plt.legend(handles=[blue_patch,red_patch])\n",
    "    \n",
    "    plt.title(title)\n",
    "    \n",
    "    return plt"
   ]
  },
  {
   "cell_type": "code",
   "execution_count": 46,
   "metadata": {
    "collapsed": false
   },
   "outputs": [],
   "source": [
    "xName = \"DER_pt_h\"\n",
    "yName = \"PRI_met\"\n",
    "header.index(xName)\n",
    "xData = test_data[:,header.index(xName)]\n",
    "yData = test_data[:,header.index(yName)]\n",
    "labels = test_labels\n",
    "\n",
    "mainFig = plt.figure(figsize=(12,9))\n",
    "ax = mainFig.add_subplot(111)\n",
    "ax = scattered(xName,yName,xData,yData,test_labels, alph=0.2)\n",
    "savePath = (\"F:\\BA_git\\Docs\\latex\\Presentation\\src\\images\" + \"/scat_\" + xName)\n",
    "mainFig.savefig(savePath)"
   ]
  },
  {
   "cell_type": "code",
   "execution_count": 26,
   "metadata": {
    "collapsed": false,
    "scrolled": true
   },
   "outputs": [],
   "source": [
    "def createAllScatterplots(header,data,labels,scatterPath,startX=1,x_size=3,y_size=2,n=0):\n",
    "    for x in range(startX,len(header)):\n",
    "        xName = header[x]\n",
    "        xData = data[:,x]\n",
    "        xFolder = (scatterPath + \"/\" + xName)\n",
    "        if not os.path.exists(xFolder):\n",
    "            os.makedirs(xFolder)\n",
    "        y = 1\n",
    "        while y in range(1,len(header)):\n",
    "            mainFig = plt.figure(figsize=(20,15))\n",
    "            for i in range(1,(1+(x_size*y_size))):\n",
    "                yName = header[y]\n",
    "                yData = data[:,y]    \n",
    "                ax = mainFig.add_subplot(x_size,y_size,i)\n",
    "                y += 1\n",
    "                ax = scattered(xName,yName,xData,yData,labels)\n",
    "\n",
    "            savePath = (xFolder + \"/\" + str(n))\n",
    "            n += 1\n",
    "            mainFig.savefig(savePath)\n",
    "            mainFig = None\n",
    "            \n",
    "        plt.close(\"all\")"
   ]
  },
  {
   "cell_type": "code",
   "execution_count": 48,
   "metadata": {
    "collapsed": false,
    "scrolled": true
   },
   "outputs": [],
   "source": [
    "start = header.index(\"PRI_lep_pt\")\n",
    "n = (start-1)*5\n",
    "createAllScatterplots(header,test_data,test_labels,scatterPath,startX=start,n=n)"
   ]
  },
  {
   "cell_type": "code",
   "execution_count": 40,
   "metadata": {
    "collapsed": false,
    "scrolled": true
   },
   "outputs": [],
   "source": [
    "def histo(featName,data,labels):\n",
    "    font = {'weight' : 'bold',\n",
    "            'size'   : 10}\n",
    "\n",
    "    b = 100\n",
    "\n",
    "    title = str(\"Histogram: \"+ featName)\n",
    "    sdata = []\n",
    "    bdata = []\n",
    "    for i in range(0,len(data)):\n",
    "        if labels[i] == 0:\n",
    "            bdata.append(data[i])\n",
    "        else:\n",
    "            sdata.append(data[i])\n",
    "\n",
    "    colors = generateLabelsColors(labels)\n",
    "    \n",
    "    scale = 0.1\n",
    "    xmin,xmax = scaleAxis(data,scale)\n",
    "    \n",
    "    xmin = int(xmin)\n",
    "    xmax = int(xmax)\n",
    "\n",
    "    shist = plt.hist(sdata,bins = np.linspace(xmin,xmax,b), normed=1, facecolor='red', alpha=0.3)\n",
    "    bhist = plt.hist(bdata,bins = np.linspace(xmin,xmax,b), normed=1, facecolor='blue', alpha=0.3)\n",
    "\n",
    "    plt.legend(('Signal', 'Background'))\n",
    "\n",
    "    plt.ylabel('Percentage in data')\n",
    "    plt.xlabel('Values')\n",
    "    plt.title(title)\n",
    "    matplotlib.rc('font', **font)\n",
    "    return plt"
   ]
  },
  {
   "cell_type": "code",
   "execution_count": 41,
   "metadata": {
    "collapsed": false
   },
   "outputs": [],
   "source": [
    "def createAllHistograms(header,data,labels,histPath,x=3,y=2):\n",
    "    n = 0\n",
    "    p = 1\n",
    "    while p in range(1,len(header)):\n",
    "        mainFig = plt.figure(figsize=(20,15))\n",
    "        for i in range(1,(1+(x*y))):\n",
    "            featName = header[p]\n",
    "            feat_data = data[:,p]    \n",
    "            ax = mainFig.add_subplot(x,y,i)\n",
    "            ax = histo(featName,feat_data,labels);\n",
    "            p += 1\n",
    "        savePath = (histPath + \"/hist_\" + str(n))\n",
    "        n += 1\n",
    "        mainFig.savefig(savePath)\n",
    "        \n",
    "        mainFig = None\n",
    "        plt.close(\"all\")"
   ]
  },
  {
   "cell_type": "code",
   "execution_count": 45,
   "metadata": {
    "collapsed": true
   },
   "outputs": [],
   "source": [
    "xName = \"DER_deltaeta_jet_jet\"\n",
    "header.index(xName)\n",
    "xData = test_data[:,header.index(xName)]\n",
    "labels = test_labels\n",
    "\n",
    "mainFig = plt.figure(figsize=(20,15))\n",
    "ax = mainFig.add_subplot(111)\n",
    "ax = histo(xName,xData,test_labels)\n",
    "savePath = (\"F:\\BA_git\\Docs\\latex\\Presentation\\src\\images\" + \"/\" + xName)\n",
    "mainFig.savefig(savePath)"
   ]
  },
  {
   "cell_type": "code",
   "execution_count": null,
   "metadata": {
    "collapsed": false,
    "scrolled": true
   },
   "outputs": [],
   "source": [
    "createAllHistograms(header,test_data,test_labels,histPath)"
   ]
  },
  {
   "cell_type": "code",
   "execution_count": null,
   "metadata": {
    "collapsed": true
   },
   "outputs": [],
   "source": []
  }
 ],
 "metadata": {
  "kernelspec": {
   "display_name": "Python 3",
   "language": "python",
   "name": "python3"
  },
  "language_info": {
   "codemirror_mode": {
    "name": "ipython",
    "version": 3
   },
   "file_extension": ".py",
   "mimetype": "text/x-python",
   "name": "python",
   "nbconvert_exporter": "python",
   "pygments_lexer": "ipython3",
   "version": "3.4.3"
  }
 },
 "nbformat": 4,
 "nbformat_minor": 0
}
