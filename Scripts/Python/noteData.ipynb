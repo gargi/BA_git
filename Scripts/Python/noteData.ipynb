{
 "cells": [
  {
   "cell_type": "markdown",
   "metadata": {},
   "source": [
    "All data provided by the challenge- and the opencern-dataset was \\cite{higgsPaper}"
   ]
  },
  {
   "cell_type": "markdown",
   "metadata": {},
   "source": [
    "The features Weight and Label were originally only provided in the training-dataset. The data used in this thesis is expanded by complete Weight-, Labels-features and the Kaggle-specific features KaggleSet and KaggleWeight.\n",
    "\n",
    "All features of the dataset are described in Appendix A."
   ]
  }
 ],
 "metadata": {
  "kernelspec": {
   "display_name": "Python 3",
   "language": "python",
   "name": "python3"
  },
  "language_info": {
   "codemirror_mode": {
    "name": "ipython",
    "version": 3
   },
   "file_extension": ".py",
   "mimetype": "text/x-python",
   "name": "python",
   "nbconvert_exporter": "python",
   "pygments_lexer": "ipython3",
   "version": "3.4.3"
  }
 },
 "nbformat": 4,
 "nbformat_minor": 0
}
